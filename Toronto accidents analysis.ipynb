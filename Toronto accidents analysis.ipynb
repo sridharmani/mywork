{
 "cells": [
  {
   "cell_type": "markdown",
   "metadata": {},
   "source": [
    "# Toronto City – Accident data analysis and building a prediction model to predict severity of accident injury\n",
    "\n",
    "\n",
    "## Term Project, 3251 – Statistics for Data Sciences, 23-June-2019"
   ]
  },
  {
   "cell_type": "code",
   "execution_count": 59,
   "metadata": {},
   "outputs": [],
   "source": [
    "__author__ = \"Sakshi Sharma, Sridhar Mani, Thangappa Tamilarasan, Vijayalakshmi TA \"\n",
    "__copyright__ = \"Copyright 2019\"\n",
    "__license__ = \"GPL\"\n",
    "__version__ = \"1.1\"\n",
    "__status__ = \"Submitted for Grading\"\n",
    "__Group__ = \"1\""
   ]
  },
  {
   "cell_type": "markdown",
   "metadata": {},
   "source": [
    "# 1.0\t Introduction:\n",
    "\n",
    "Traffic accidents are caused by various factors including but not limited to distracted driving, poor driving conditions, vehicle malfunction, careless driving etc. According to the World Health Organization, road traffic injuries caused an estimated 1.35 million deaths worldwide in the year 2016.That is, one person is killed every 25 seconds. Good news is that traffic accidents and critical injury rate in Toronto has been on the decline for the last decade. This is attributed to various reasons such as more awareness among drivers, better infrastructure, higher safety standards in cars etc. While there is a steady decline in the traffic related accident and resulting serious injury, there is a need for an in-depth analysis of accident data and a predictive model which can predict the criticality of an injury when an accident happens based on various parameters. This key information can be applied in various fields such as hospitals to plan and effectively utilize their resources, insurance companies to optimize insurance rates etc. \n",
    "\n",
    "Objective of this project is twofold.\n",
    "1.\tBuild a prediction model which can predict the severity of an injury when a road related traffic accident happens in Toronto area based on various parameters such as – 1) time of the day 2) neighbourhood 3) road conditions 4) visibility conditions 5) month of the year \n",
    "\n",
    "2.\tBased on sample data received, test the alternate hypothesis that severely injured monthly accident rate of last four-year period (2014-2018) is lesser than the severely injured monthly accident rate of previous four-year period (2010 – 2014)."
   ]
  },
  {
   "cell_type": "markdown",
   "metadata": {},
   "source": [
    "# 2.0\tData\n",
    "\n",
    "Source of the data is the Toronto City - killed or severely injured (KSI) accident data set. This data set has information associated with reported accidents in Toronto area between the year 2007 and 2017."
   ]
  },
  {
   "cell_type": "markdown",
   "metadata": {},
   "source": [
    "# 3.0\tBuilding a predictive model:\n",
    "\n",
    "Following algorithms were used to build a predictive model to predict the seriousness / criticality of injury based on various parameters. \n",
    "•\tLogistic Regression\n",
    "•\tRandom Forest Classifier \n",
    "\n",
    "Listed below are the steps followed in building a predictive model:\n",
    "- Loading the data set\n",
    "- Analysing the data\n",
    "- Transforming the data\n",
    "- Building the model\n",
    "- Testing & tuning the model\n",
    "- Accuracy score analysis"
   ]
  },
  {
   "cell_type": "markdown",
   "metadata": {},
   "source": [
    "# 3.1 Introduction to the models:\n",
    "\n",
    "### 3.1.1\tRandom Forecast Classification:\n",
    "            \n",
    "Random forests or random decision forests are an ensemble learning method for classification, regression and other tasks that operates by constructing a multitude of decision trees at training time and outputting the class that is the mode of the classes (classification) or mean prediction (regression) of the individual trees. Random decision forests correct for decision trees' habit of overfitting to their training set.\n",
    "\n",
    "### 3.1.2\tLogistic Regression Classification:\n",
    "            \n",
    "Logistic regression is a statistical model that in its basic form uses a logistic function to model a binary dependent variable, although many more complex extensions exist. In regression analysis, logistic regression (or logit regression) is estimating the parameters of a logistic model (a form of binary regression). Mathematically, a binary logistic model has a dependent variable with two possible values, such as pass/fail which is represented by an indicator variable, where the two values are labeled \"0\" and \"1\". "
   ]
  },
  {
   "cell_type": "markdown",
   "metadata": {},
   "source": [
    "# 3.2 Loading the data set:\n",
    "\n",
    "Data was loaded into Python – Jupyter notebook for analysis and model building. Data from CSV was loaded into a Pandas DataFrame object.\n"
   ]
  },
  {
   "cell_type": "code",
   "execution_count": 1,
   "metadata": {},
   "outputs": [],
   "source": [
    "# Import Libraries\n",
    "import pandas as pd\n",
    "import numpy as np\n",
    "import matplotlib.pyplot as plt\n",
    "%matplotlib inline\n",
    "import seaborn as sns\n",
    "sns.set(rc={'figure.figsize':(14,9)})\n",
    "from datetime import datetime\n",
    "import statsmodels.formula.api as sm\n",
    "import statsmodels.graphics\n",
    "from collections import Counter\n",
    "from scipy import stats\n",
    "import warnings\n",
    "warnings.filterwarnings('ignore')\n",
    "from sklearn import linear_model\n",
    "from sklearn.ensemble import RandomForestClassifier\n",
    "from sklearn.svm import SVC\n",
    "from sklearn.linear_model import SGDClassifier\n",
    "from sklearn.metrics import confusion_matrix, classification_report, accuracy_score\n",
    "from sklearn.preprocessing import StandardScaler, LabelEncoder\n",
    "from sklearn.model_selection import train_test_split, GridSearchCV, cross_val_score\n",
    "import itertools"
   ]
  },
  {
   "cell_type": "code",
   "execution_count": 2,
   "metadata": {},
   "outputs": [
    {
     "data": {
      "text/html": [
       "<div>\n",
       "<style scoped>\n",
       "    .dataframe tbody tr th:only-of-type {\n",
       "        vertical-align: middle;\n",
       "    }\n",
       "\n",
       "    .dataframe tbody tr th {\n",
       "        vertical-align: top;\n",
       "    }\n",
       "\n",
       "    .dataframe thead th {\n",
       "        text-align: right;\n",
       "    }\n",
       "</style>\n",
       "<table border=\"1\" class=\"dataframe\">\n",
       "  <thead>\n",
       "    <tr style=\"text-align: right;\">\n",
       "      <th></th>\n",
       "      <th>x</th>\n",
       "      <th>y</th>\n",
       "      <th>index_</th>\n",
       "      <th>accnum</th>\n",
       "      <th>year</th>\n",
       "      <th>date</th>\n",
       "      <th>time</th>\n",
       "      <th>hour</th>\n",
       "      <th>street1</th>\n",
       "      <th>street2</th>\n",
       "      <th>...</th>\n",
       "      <th>ag_driv</th>\n",
       "      <th>redlight</th>\n",
       "      <th>alcohol</th>\n",
       "      <th>disability</th>\n",
       "      <th>division</th>\n",
       "      <th>ward_name</th>\n",
       "      <th>ward_id</th>\n",
       "      <th>hood_id</th>\n",
       "      <th>hood_name</th>\n",
       "      <th>fid</th>\n",
       "    </tr>\n",
       "  </thead>\n",
       "  <tbody>\n",
       "    <tr>\n",
       "      <th>0</th>\n",
       "      <td>-79.38349</td>\n",
       "      <td>43.651545</td>\n",
       "      <td>6666068</td>\n",
       "      <td>1249781</td>\n",
       "      <td>2011</td>\n",
       "      <td>2011-08-04T04:00:00.000Z</td>\n",
       "      <td>2318</td>\n",
       "      <td>23</td>\n",
       "      <td>QUEEN ST W</td>\n",
       "      <td>YORK ST</td>\n",
       "      <td>...</td>\n",
       "      <td></td>\n",
       "      <td></td>\n",
       "      <td></td>\n",
       "      <td></td>\n",
       "      <td>D52</td>\n",
       "      <td>Toronto Centre-Rosedale (27)</td>\n",
       "      <td>27</td>\n",
       "      <td>76</td>\n",
       "      <td>Bay Street Corridor (76)</td>\n",
       "      <td>12001</td>\n",
       "    </tr>\n",
       "    <tr>\n",
       "      <th>1</th>\n",
       "      <td>-79.30049</td>\n",
       "      <td>43.780445</td>\n",
       "      <td>7542240</td>\n",
       "      <td>1311542</td>\n",
       "      <td>2012</td>\n",
       "      <td>2012-08-19T04:00:00.000Z</td>\n",
       "      <td>2318</td>\n",
       "      <td>23</td>\n",
       "      <td>SHEPPARD AVE E</td>\n",
       "      <td>AMETHYST RD</td>\n",
       "      <td>...</td>\n",
       "      <td>Yes</td>\n",
       "      <td></td>\n",
       "      <td></td>\n",
       "      <td></td>\n",
       "      <td>D42</td>\n",
       "      <td>Scarborough-Agincourt (40)</td>\n",
       "      <td>40</td>\n",
       "      <td>118</td>\n",
       "      <td>Tam O'Shanter-Sullivan (118)</td>\n",
       "      <td>12002</td>\n",
       "    </tr>\n",
       "  </tbody>\n",
       "</table>\n",
       "<p>2 rows × 57 columns</p>\n",
       "</div>"
      ],
      "text/plain": [
       "          x          y   index_   accnum  year                      date  \\\n",
       "0 -79.38349  43.651545  6666068  1249781  2011  2011-08-04T04:00:00.000Z   \n",
       "1 -79.30049  43.780445  7542240  1311542  2012  2012-08-19T04:00:00.000Z   \n",
       "\n",
       "   time  hour         street1      street2  ... ag_driv redlight alcohol  \\\n",
       "0  2318    23      QUEEN ST W      YORK ST  ...                            \n",
       "1  2318    23  SHEPPARD AVE E  AMETHYST RD  ...     Yes                    \n",
       "\n",
       "   disability  division                     ward_name ward_id hood_id  \\\n",
       "0                   D52  Toronto Centre-Rosedale (27)      27      76   \n",
       "1                   D42    Scarborough-Agincourt (40)      40     118   \n",
       "\n",
       "                      hood_name    fid  \n",
       "0      Bay Street Corridor (76)  12001  \n",
       "1  Tam O'Shanter-Sullivan (118)  12002  \n",
       "\n",
       "[2 rows x 57 columns]"
      ]
     },
     "execution_count": 2,
     "metadata": {},
     "output_type": "execute_result"
    }
   ],
   "source": [
    "# Load data\n",
    "file_path='KSI.csv'\n",
    "raw_data=pd.read_csv(file_path)\n",
    "# Convert columns to lower case\n",
    "raw_data.columns = raw_data.columns.str.lower()\n",
    "raw_data.head(2)"
   ]
  },
  {
   "cell_type": "markdown",
   "metadata": {},
   "source": [
    "# 3.3 Data Analysis:\n",
    "\t\n",
    "The loaded data was analysed for completeness and integrity. There were 12557 entries in the CSV data set which was loaded into the DataFrame. A careful analysis of all the columns were performed and the columns which are not deemed critical for analysis and predictive modelling were removed. Following are the list of columns which were removed from the dataframe as they had no significance to data analysis or modelling.\n"
   ]
  },
  {
   "cell_type": "code",
   "execution_count": 3,
   "metadata": {},
   "outputs": [
    {
     "name": "stdout",
     "output_type": "stream",
     "text": [
      "<class 'pandas.core.frame.DataFrame'>\n",
      "RangeIndex: 12557 entries, 0 to 12556\n",
      "Data columns (total 57 columns):\n",
      "x                12557 non-null float64\n",
      "y                12557 non-null float64\n",
      "index_           12557 non-null int64\n",
      "accnum           12557 non-null int64\n",
      "year             12557 non-null int64\n",
      "date             12557 non-null object\n",
      "time             12557 non-null int64\n",
      "hour             12557 non-null int64\n",
      "street1          12557 non-null object\n",
      "street2          12557 non-null object\n",
      "offset           12557 non-null object\n",
      "road_class       12557 non-null object\n",
      "district         12557 non-null object\n",
      "latitude         12557 non-null float64\n",
      "longitude        12557 non-null float64\n",
      "loccoord         12557 non-null object\n",
      "accloc           12557 non-null object\n",
      "traffctl         12557 non-null object\n",
      "visibility       12557 non-null object\n",
      "light            12557 non-null object\n",
      "rdsfcond         12557 non-null object\n",
      "acclass          12557 non-null object\n",
      "impactype        12557 non-null object\n",
      "invtype          12557 non-null object\n",
      "invage           12557 non-null object\n",
      "injury           12557 non-null object\n",
      "fatal_no         12557 non-null int64\n",
      "initdir          12557 non-null object\n",
      "vehtype          12557 non-null object\n",
      "manoeuver        12557 non-null object\n",
      "drivact          12557 non-null object\n",
      "drivcond         12557 non-null object\n",
      "pedtype          12557 non-null object\n",
      "pedact           12557 non-null object\n",
      "pedcond          12557 non-null object\n",
      "cyclistype       12557 non-null object\n",
      "cycact           12557 non-null object\n",
      "cyccond          12557 non-null object\n",
      "pedestrian       12557 non-null object\n",
      "cyclist          12557 non-null object\n",
      "automobile       12557 non-null object\n",
      "motorcycle       12557 non-null object\n",
      "truck            12557 non-null object\n",
      "trsn_city_veh    12557 non-null object\n",
      "emerg_veh        12557 non-null object\n",
      "passenger        12557 non-null object\n",
      "speeding         12557 non-null object\n",
      "ag_driv          12557 non-null object\n",
      "redlight         12557 non-null object\n",
      "alcohol          12557 non-null object\n",
      "disability       12557 non-null object\n",
      "division         12557 non-null object\n",
      "ward_name        12557 non-null object\n",
      "ward_id          12557 non-null int64\n",
      "hood_id          12557 non-null int64\n",
      "hood_name        12557 non-null object\n",
      "fid              12557 non-null int64\n",
      "dtypes: float64(4), int64(9), object(44)\n",
      "memory usage: 5.5+ MB\n"
     ]
    }
   ],
   "source": [
    "# Study data\n",
    "raw_data.info()"
   ]
  },
  {
   "cell_type": "code",
   "execution_count": 4,
   "metadata": {},
   "outputs": [
    {
     "data": {
      "text/plain": [
       "Index(['x', 'y', 'index_', 'accnum', 'year', 'date', 'time', 'hour', 'street1',\n",
       "       'street2', 'offset', 'road_class', 'district', 'latitude', 'longitude',\n",
       "       'loccoord', 'accloc', 'traffctl', 'visibility', 'light', 'rdsfcond',\n",
       "       'acclass', 'impactype', 'invtype', 'invage', 'injury', 'fatal_no',\n",
       "       'initdir', 'vehtype', 'manoeuver', 'drivact', 'drivcond', 'pedtype',\n",
       "       'pedact', 'pedcond', 'cyclistype', 'cycact', 'cyccond', 'pedestrian',\n",
       "       'cyclist', 'automobile', 'motorcycle', 'truck', 'trsn_city_veh',\n",
       "       'emerg_veh', 'passenger', 'speeding', 'ag_driv', 'redlight', 'alcohol',\n",
       "       'disability', 'division', 'ward_name', 'ward_id', 'hood_id',\n",
       "       'hood_name', 'fid'],\n",
       "      dtype='object')"
      ]
     },
     "execution_count": 4,
     "metadata": {},
     "output_type": "execute_result"
    }
   ],
   "source": [
    "# Get column names\n",
    "raw_data.columns"
   ]
  },
  {
   "cell_type": "code",
   "execution_count": 5,
   "metadata": {},
   "outputs": [],
   "source": [
    "# drop columns that are not needed for analysis and building the model \n",
    "columns_to_drop=['x','y','index_','acclass','accnum', 'street1',\n",
    "       'street2', 'offset',\n",
    "       'loccoord', 'accloc', 'traffctl', 'impactype', 'invtype', 'invage', 'fatal_no',\n",
    "       'initdir', 'vehtype', 'manoeuver', 'drivact', 'drivcond', 'pedtype',\n",
    "       'pedact', 'pedcond', 'cyclistype', 'cycact', 'cyccond', 'pedestrian',\n",
    "       'cyclist', 'automobile', 'motorcycle', 'truck', 'trsn_city_veh',\n",
    "       'emerg_veh', 'passenger', 'speeding', 'ag_driv', 'redlight', 'alcohol',\n",
    "       'disability', 'division', 'ward_name', 'hood_id',\n",
    "       'hood_name', 'fid']"
   ]
  },
  {
   "cell_type": "code",
   "execution_count": 6,
   "metadata": {},
   "outputs": [
    {
     "data": {
      "text/html": [
       "<div>\n",
       "<style scoped>\n",
       "    .dataframe tbody tr th:only-of-type {\n",
       "        vertical-align: middle;\n",
       "    }\n",
       "\n",
       "    .dataframe tbody tr th {\n",
       "        vertical-align: top;\n",
       "    }\n",
       "\n",
       "    .dataframe thead th {\n",
       "        text-align: right;\n",
       "    }\n",
       "</style>\n",
       "<table border=\"1\" class=\"dataframe\">\n",
       "  <thead>\n",
       "    <tr style=\"text-align: right;\">\n",
       "      <th></th>\n",
       "      <th>year</th>\n",
       "      <th>date</th>\n",
       "      <th>time</th>\n",
       "      <th>hour</th>\n",
       "      <th>road_class</th>\n",
       "      <th>district</th>\n",
       "      <th>latitude</th>\n",
       "      <th>longitude</th>\n",
       "      <th>visibility</th>\n",
       "      <th>light</th>\n",
       "      <th>rdsfcond</th>\n",
       "      <th>injury</th>\n",
       "      <th>ward_id</th>\n",
       "    </tr>\n",
       "  </thead>\n",
       "  <tbody>\n",
       "    <tr>\n",
       "      <th>0</th>\n",
       "      <td>2011</td>\n",
       "      <td>2011-08-04T04:00:00.000Z</td>\n",
       "      <td>2318</td>\n",
       "      <td>23</td>\n",
       "      <td>Major Arterial</td>\n",
       "      <td>Toronto East York</td>\n",
       "      <td>43.651545</td>\n",
       "      <td>-79.38349</td>\n",
       "      <td>Clear</td>\n",
       "      <td>Dark</td>\n",
       "      <td>Dry</td>\n",
       "      <td>None</td>\n",
       "      <td>27</td>\n",
       "    </tr>\n",
       "    <tr>\n",
       "      <th>1</th>\n",
       "      <td>2012</td>\n",
       "      <td>2012-08-19T04:00:00.000Z</td>\n",
       "      <td>2318</td>\n",
       "      <td>23</td>\n",
       "      <td>Major Arterial</td>\n",
       "      <td>Scarborough</td>\n",
       "      <td>43.780445</td>\n",
       "      <td>-79.30049</td>\n",
       "      <td>Clear</td>\n",
       "      <td>Dark, artificial</td>\n",
       "      <td>Dry</td>\n",
       "      <td>Minimal</td>\n",
       "      <td>40</td>\n",
       "    </tr>\n",
       "  </tbody>\n",
       "</table>\n",
       "</div>"
      ],
      "text/plain": [
       "   year                      date  time  hour      road_class  \\\n",
       "0  2011  2011-08-04T04:00:00.000Z  2318    23  Major Arterial   \n",
       "1  2012  2012-08-19T04:00:00.000Z  2318    23  Major Arterial   \n",
       "\n",
       "            district   latitude  longitude visibility             light  \\\n",
       "0  Toronto East York  43.651545  -79.38349      Clear              Dark   \n",
       "1        Scarborough  43.780445  -79.30049      Clear  Dark, artificial   \n",
       "\n",
       "  rdsfcond   injury  ward_id  \n",
       "0      Dry     None       27  \n",
       "1      Dry  Minimal       40  "
      ]
     },
     "execution_count": 6,
     "metadata": {},
     "output_type": "execute_result"
    }
   ],
   "source": [
    "# Retain only the columns needed for analysis\n",
    "df1 = raw_data.drop(columns=columns_to_drop, axis=1)\n",
    "df1.head(2)"
   ]
  },
  {
   "cell_type": "markdown",
   "metadata": {},
   "source": [
    "# 3.4\tData Transformation:\n",
    "\t\n",
    "As majority of the data attributes are categorical, the data attributes are transformed into numerical values for ease of analysis, consistency and building a prediction model. New data attributes were engineered using available data and some of the existing data attributes were transformed. Below table outlines the list of all new data attributes engineering and existing attributes that were transformed for model building purposes. \n",
    "\n",
    "**Transform Date**"
   ]
  },
  {
   "cell_type": "code",
   "execution_count": 7,
   "metadata": {},
   "outputs": [
    {
     "data": {
      "text/html": [
       "<div>\n",
       "<style scoped>\n",
       "    .dataframe tbody tr th:only-of-type {\n",
       "        vertical-align: middle;\n",
       "    }\n",
       "\n",
       "    .dataframe tbody tr th {\n",
       "        vertical-align: top;\n",
       "    }\n",
       "\n",
       "    .dataframe thead th {\n",
       "        text-align: right;\n",
       "    }\n",
       "</style>\n",
       "<table border=\"1\" class=\"dataframe\">\n",
       "  <thead>\n",
       "    <tr style=\"text-align: right;\">\n",
       "      <th></th>\n",
       "      <th>year</th>\n",
       "      <th>time</th>\n",
       "      <th>hour</th>\n",
       "      <th>road_class</th>\n",
       "      <th>district</th>\n",
       "      <th>latitude</th>\n",
       "      <th>longitude</th>\n",
       "      <th>visibility</th>\n",
       "      <th>light</th>\n",
       "      <th>rdsfcond</th>\n",
       "      <th>injury</th>\n",
       "      <th>ward_id</th>\n",
       "      <th>accident_month</th>\n",
       "    </tr>\n",
       "  </thead>\n",
       "  <tbody>\n",
       "    <tr>\n",
       "      <th>0</th>\n",
       "      <td>2011</td>\n",
       "      <td>2318</td>\n",
       "      <td>23</td>\n",
       "      <td>Major Arterial</td>\n",
       "      <td>Toronto East York</td>\n",
       "      <td>43.651545</td>\n",
       "      <td>-79.38349</td>\n",
       "      <td>Clear</td>\n",
       "      <td>Dark</td>\n",
       "      <td>Dry</td>\n",
       "      <td>None</td>\n",
       "      <td>27</td>\n",
       "      <td>8</td>\n",
       "    </tr>\n",
       "    <tr>\n",
       "      <th>1</th>\n",
       "      <td>2012</td>\n",
       "      <td>2318</td>\n",
       "      <td>23</td>\n",
       "      <td>Major Arterial</td>\n",
       "      <td>Scarborough</td>\n",
       "      <td>43.780445</td>\n",
       "      <td>-79.30049</td>\n",
       "      <td>Clear</td>\n",
       "      <td>Dark, artificial</td>\n",
       "      <td>Dry</td>\n",
       "      <td>Minimal</td>\n",
       "      <td>40</td>\n",
       "      <td>8</td>\n",
       "    </tr>\n",
       "  </tbody>\n",
       "</table>\n",
       "</div>"
      ],
      "text/plain": [
       "   year  time  hour      road_class           district   latitude  longitude  \\\n",
       "0  2011  2318    23  Major Arterial  Toronto East York  43.651545  -79.38349   \n",
       "1  2012  2318    23  Major Arterial        Scarborough  43.780445  -79.30049   \n",
       "\n",
       "  visibility             light rdsfcond   injury  ward_id  accident_month  \n",
       "0      Clear              Dark      Dry     None       27               8  \n",
       "1      Clear  Dark, artificial      Dry  Minimal       40               8  "
      ]
     },
     "execution_count": 7,
     "metadata": {},
     "output_type": "execute_result"
    }
   ],
   "source": [
    "# Transform date\n",
    "df1['date']= df1['date'].apply(lambda x : x[:10])\n",
    "df1['date']=pd.to_datetime(df1['date'])\n",
    "# Populate month\n",
    "df1['accident_month'] = df1['date'].dt.month\n",
    "# Drop date\n",
    "df1.drop('date', axis=1, inplace=True)\n",
    "df1.head(2)"
   ]
  },
  {
   "cell_type": "markdown",
   "metadata": {},
   "source": [
    "**Transform Injury**"
   ]
  },
  {
   "cell_type": "code",
   "execution_count": 8,
   "metadata": {},
   "outputs": [
    {
     "data": {
      "text/plain": [
       "array(['None', 'Minimal', 'Fatal', ' ', 'Major', 'Minor'], dtype=object)"
      ]
     },
     "execution_count": 8,
     "metadata": {},
     "output_type": "execute_result"
    }
   ],
   "source": [
    "# Transform accident injury - Serious or Non-Serious\n",
    "df1.injury.unique()"
   ]
  },
  {
   "cell_type": "code",
   "execution_count": 9,
   "metadata": {},
   "outputs": [],
   "source": [
    "# Transform accident injury - Critical or Non Critical\n",
    "def critical_injury(injury):\n",
    "    if injury in ('Fatal','Major'):\n",
    "        return 1\n",
    "    else:\n",
    "        return 0"
   ]
  },
  {
   "cell_type": "code",
   "execution_count": 10,
   "metadata": {},
   "outputs": [
    {
     "data": {
      "text/html": [
       "<div>\n",
       "<style scoped>\n",
       "    .dataframe tbody tr th:only-of-type {\n",
       "        vertical-align: middle;\n",
       "    }\n",
       "\n",
       "    .dataframe tbody tr th {\n",
       "        vertical-align: top;\n",
       "    }\n",
       "\n",
       "    .dataframe thead th {\n",
       "        text-align: right;\n",
       "    }\n",
       "</style>\n",
       "<table border=\"1\" class=\"dataframe\">\n",
       "  <thead>\n",
       "    <tr style=\"text-align: right;\">\n",
       "      <th></th>\n",
       "      <th>year</th>\n",
       "      <th>time</th>\n",
       "      <th>hour</th>\n",
       "      <th>road_class</th>\n",
       "      <th>district</th>\n",
       "      <th>latitude</th>\n",
       "      <th>longitude</th>\n",
       "      <th>visibility</th>\n",
       "      <th>light</th>\n",
       "      <th>rdsfcond</th>\n",
       "      <th>ward_id</th>\n",
       "      <th>accident_month</th>\n",
       "      <th>critically_injured</th>\n",
       "    </tr>\n",
       "  </thead>\n",
       "  <tbody>\n",
       "    <tr>\n",
       "      <th>0</th>\n",
       "      <td>2011</td>\n",
       "      <td>2318</td>\n",
       "      <td>23</td>\n",
       "      <td>Major Arterial</td>\n",
       "      <td>Toronto East York</td>\n",
       "      <td>43.651545</td>\n",
       "      <td>-79.38349</td>\n",
       "      <td>Clear</td>\n",
       "      <td>Dark</td>\n",
       "      <td>Dry</td>\n",
       "      <td>27</td>\n",
       "      <td>8</td>\n",
       "      <td>0</td>\n",
       "    </tr>\n",
       "    <tr>\n",
       "      <th>1</th>\n",
       "      <td>2012</td>\n",
       "      <td>2318</td>\n",
       "      <td>23</td>\n",
       "      <td>Major Arterial</td>\n",
       "      <td>Scarborough</td>\n",
       "      <td>43.780445</td>\n",
       "      <td>-79.30049</td>\n",
       "      <td>Clear</td>\n",
       "      <td>Dark, artificial</td>\n",
       "      <td>Dry</td>\n",
       "      <td>40</td>\n",
       "      <td>8</td>\n",
       "      <td>0</td>\n",
       "    </tr>\n",
       "  </tbody>\n",
       "</table>\n",
       "</div>"
      ],
      "text/plain": [
       "   year  time  hour      road_class           district   latitude  longitude  \\\n",
       "0  2011  2318    23  Major Arterial  Toronto East York  43.651545  -79.38349   \n",
       "1  2012  2318    23  Major Arterial        Scarborough  43.780445  -79.30049   \n",
       "\n",
       "  visibility             light rdsfcond  ward_id  accident_month  \\\n",
       "0      Clear              Dark      Dry       27               8   \n",
       "1      Clear  Dark, artificial      Dry       40               8   \n",
       "\n",
       "   critically_injured  \n",
       "0                   0  \n",
       "1                   0  "
      ]
     },
     "execution_count": 10,
     "metadata": {},
     "output_type": "execute_result"
    }
   ],
   "source": [
    "df1['critically_injured'] = df1['injury'].apply(critical_injury)\n",
    "#Drop injury\n",
    "df1.drop('injury', axis=1, inplace=True)\n",
    "df1.head(2)"
   ]
  },
  {
   "cell_type": "markdown",
   "metadata": {},
   "source": [
    "**Transform Time**\n",
    "\n",
    "    - `Night` = Midnight to 6:00 am (Code '1')\n",
    "    - `Rush Hour` = 7:00 am to 10:00 am; 4:00pm to 7:00pm (Code '2')\n",
    "    - `Regular` = Rest (Code '3')"
   ]
  },
  {
   "cell_type": "code",
   "execution_count": 11,
   "metadata": {},
   "outputs": [],
   "source": [
    "def get_time(t):\n",
    "    if (t>=0 and t<6):\n",
    "        return 1\n",
    "    elif (t >=7 and t <10 ):\n",
    "        return 2\n",
    "    elif (t >=16 and t <19):\n",
    "        return 2\n",
    "    else:\n",
    "        return 3"
   ]
  },
  {
   "cell_type": "code",
   "execution_count": 12,
   "metadata": {},
   "outputs": [
    {
     "data": {
      "text/html": [
       "<div>\n",
       "<style scoped>\n",
       "    .dataframe tbody tr th:only-of-type {\n",
       "        vertical-align: middle;\n",
       "    }\n",
       "\n",
       "    .dataframe tbody tr th {\n",
       "        vertical-align: top;\n",
       "    }\n",
       "\n",
       "    .dataframe thead th {\n",
       "        text-align: right;\n",
       "    }\n",
       "</style>\n",
       "<table border=\"1\" class=\"dataframe\">\n",
       "  <thead>\n",
       "    <tr style=\"text-align: right;\">\n",
       "      <th></th>\n",
       "      <th>road_class</th>\n",
       "      <th>district</th>\n",
       "      <th>latitude</th>\n",
       "      <th>longitude</th>\n",
       "      <th>visibility</th>\n",
       "      <th>light</th>\n",
       "      <th>rdsfcond</th>\n",
       "      <th>ward_id</th>\n",
       "      <th>accident_month</th>\n",
       "      <th>critically_injured</th>\n",
       "      <th>time_period</th>\n",
       "    </tr>\n",
       "  </thead>\n",
       "  <tbody>\n",
       "    <tr>\n",
       "      <th>0</th>\n",
       "      <td>Major Arterial</td>\n",
       "      <td>Toronto East York</td>\n",
       "      <td>43.651545</td>\n",
       "      <td>-79.38349</td>\n",
       "      <td>Clear</td>\n",
       "      <td>Dark</td>\n",
       "      <td>Dry</td>\n",
       "      <td>27</td>\n",
       "      <td>8</td>\n",
       "      <td>0</td>\n",
       "      <td>3</td>\n",
       "    </tr>\n",
       "    <tr>\n",
       "      <th>1</th>\n",
       "      <td>Major Arterial</td>\n",
       "      <td>Scarborough</td>\n",
       "      <td>43.780445</td>\n",
       "      <td>-79.30049</td>\n",
       "      <td>Clear</td>\n",
       "      <td>Dark, artificial</td>\n",
       "      <td>Dry</td>\n",
       "      <td>40</td>\n",
       "      <td>8</td>\n",
       "      <td>0</td>\n",
       "      <td>3</td>\n",
       "    </tr>\n",
       "  </tbody>\n",
       "</table>\n",
       "</div>"
      ],
      "text/plain": [
       "       road_class           district   latitude  longitude visibility  \\\n",
       "0  Major Arterial  Toronto East York  43.651545  -79.38349      Clear   \n",
       "1  Major Arterial        Scarborough  43.780445  -79.30049      Clear   \n",
       "\n",
       "              light rdsfcond  ward_id  accident_month  critically_injured  \\\n",
       "0              Dark      Dry       27               8                   0   \n",
       "1  Dark, artificial      Dry       40               8                   0   \n",
       "\n",
       "   time_period  \n",
       "0            3  \n",
       "1            3  "
      ]
     },
     "execution_count": 12,
     "metadata": {},
     "output_type": "execute_result"
    }
   ],
   "source": [
    "# Add new column - time_period\n",
    "df1['time_period']= df1['hour'].apply(get_time)\n",
    "# drop time column\n",
    "df1.drop(columns=['time','year','hour'], axis=1, inplace=True)\n",
    "df1.head(2)"
   ]
  },
  {
   "cell_type": "markdown",
   "metadata": {},
   "source": [
    "**Road Classification**"
   ]
  },
  {
   "cell_type": "code",
   "execution_count": 13,
   "metadata": {},
   "outputs": [],
   "source": [
    "def road_classification(road_class):\n",
    "    if road_class in ('Expressway'):\n",
    "        return 1\n",
    "    else:\n",
    "        return 2"
   ]
  },
  {
   "cell_type": "code",
   "execution_count": 14,
   "metadata": {},
   "outputs": [
    {
     "data": {
      "text/html": [
       "<div>\n",
       "<style scoped>\n",
       "    .dataframe tbody tr th:only-of-type {\n",
       "        vertical-align: middle;\n",
       "    }\n",
       "\n",
       "    .dataframe tbody tr th {\n",
       "        vertical-align: top;\n",
       "    }\n",
       "\n",
       "    .dataframe thead th {\n",
       "        text-align: right;\n",
       "    }\n",
       "</style>\n",
       "<table border=\"1\" class=\"dataframe\">\n",
       "  <thead>\n",
       "    <tr style=\"text-align: right;\">\n",
       "      <th></th>\n",
       "      <th>district</th>\n",
       "      <th>latitude</th>\n",
       "      <th>longitude</th>\n",
       "      <th>visibility</th>\n",
       "      <th>light</th>\n",
       "      <th>rdsfcond</th>\n",
       "      <th>ward_id</th>\n",
       "      <th>accident_month</th>\n",
       "      <th>critically_injured</th>\n",
       "      <th>time_period</th>\n",
       "      <th>road_type</th>\n",
       "    </tr>\n",
       "  </thead>\n",
       "  <tbody>\n",
       "    <tr>\n",
       "      <th>0</th>\n",
       "      <td>Toronto East York</td>\n",
       "      <td>43.651545</td>\n",
       "      <td>-79.38349</td>\n",
       "      <td>Clear</td>\n",
       "      <td>Dark</td>\n",
       "      <td>Dry</td>\n",
       "      <td>27</td>\n",
       "      <td>8</td>\n",
       "      <td>0</td>\n",
       "      <td>3</td>\n",
       "      <td>2</td>\n",
       "    </tr>\n",
       "    <tr>\n",
       "      <th>1</th>\n",
       "      <td>Scarborough</td>\n",
       "      <td>43.780445</td>\n",
       "      <td>-79.30049</td>\n",
       "      <td>Clear</td>\n",
       "      <td>Dark, artificial</td>\n",
       "      <td>Dry</td>\n",
       "      <td>40</td>\n",
       "      <td>8</td>\n",
       "      <td>0</td>\n",
       "      <td>3</td>\n",
       "      <td>2</td>\n",
       "    </tr>\n",
       "  </tbody>\n",
       "</table>\n",
       "</div>"
      ],
      "text/plain": [
       "            district   latitude  longitude visibility             light  \\\n",
       "0  Toronto East York  43.651545  -79.38349      Clear              Dark   \n",
       "1        Scarborough  43.780445  -79.30049      Clear  Dark, artificial   \n",
       "\n",
       "  rdsfcond  ward_id  accident_month  critically_injured  time_period  \\\n",
       "0      Dry       27               8                   0            3   \n",
       "1      Dry       40               8                   0            3   \n",
       "\n",
       "   road_type  \n",
       "0          2  \n",
       "1          2  "
      ]
     },
     "execution_count": 14,
     "metadata": {},
     "output_type": "execute_result"
    }
   ],
   "source": [
    "# Apply road classification\n",
    "# 1 - ('Expressway')\n",
    "# 2 - ('Collectors',Major Arterial', 'Minor Arterial','Local', 'Major Arterial Ramp', 'Expressway Ramp', 'Laneway')\n",
    "df1['road_type'] = df1['road_class'].apply(road_classification)\n",
    "# Drop road_class\n",
    "df1.drop(columns='road_class', axis=1, inplace=True)\n",
    "df1.head(2)"
   ]
  },
  {
   "cell_type": "markdown",
   "metadata": {},
   "source": [
    "**Visibility Transformation**\n",
    " \n",
    " Apply driving conditions\n",
    "     1. Good\n",
    "     2. Moderate\n",
    "     3. Poor"
   ]
  },
  {
   "cell_type": "code",
   "execution_count": 15,
   "metadata": {},
   "outputs": [
    {
     "data": {
      "text/plain": [
       "array(['Clear', 'Rain', 'Freezing Rain', 'Snow', 'Other',\n",
       "       'Fog, Mist, Smoke, Dust', 'Drifting Snow', 'Strong wind', ' '],\n",
       "      dtype=object)"
      ]
     },
     "execution_count": 15,
     "metadata": {},
     "output_type": "execute_result"
    }
   ],
   "source": [
    "df1.visibility.unique()"
   ]
  },
  {
   "cell_type": "code",
   "execution_count": 16,
   "metadata": {},
   "outputs": [],
   "source": [
    "# driving conditions\n",
    "def driving_conditions(visibility):\n",
    "    if visibility in ('Clear',''):\n",
    "        return 1 # Good\n",
    "    elif visibility in ('Freezing Rain','Snow','Drifting Snow','Fog'):\n",
    "        return 3 # Poor\n",
    "    else:\n",
    "        return 2 # Moderate"
   ]
  },
  {
   "cell_type": "code",
   "execution_count": 17,
   "metadata": {},
   "outputs": [
    {
     "data": {
      "text/html": [
       "<div>\n",
       "<style scoped>\n",
       "    .dataframe tbody tr th:only-of-type {\n",
       "        vertical-align: middle;\n",
       "    }\n",
       "\n",
       "    .dataframe tbody tr th {\n",
       "        vertical-align: top;\n",
       "    }\n",
       "\n",
       "    .dataframe thead th {\n",
       "        text-align: right;\n",
       "    }\n",
       "</style>\n",
       "<table border=\"1\" class=\"dataframe\">\n",
       "  <thead>\n",
       "    <tr style=\"text-align: right;\">\n",
       "      <th></th>\n",
       "      <th>district</th>\n",
       "      <th>latitude</th>\n",
       "      <th>longitude</th>\n",
       "      <th>light</th>\n",
       "      <th>rdsfcond</th>\n",
       "      <th>ward_id</th>\n",
       "      <th>accident_month</th>\n",
       "      <th>critically_injured</th>\n",
       "      <th>time_period</th>\n",
       "      <th>road_type</th>\n",
       "      <th>poor_driving_conditions</th>\n",
       "    </tr>\n",
       "  </thead>\n",
       "  <tbody>\n",
       "    <tr>\n",
       "      <th>0</th>\n",
       "      <td>Toronto East York</td>\n",
       "      <td>43.651545</td>\n",
       "      <td>-79.38349</td>\n",
       "      <td>Dark</td>\n",
       "      <td>Dry</td>\n",
       "      <td>27</td>\n",
       "      <td>8</td>\n",
       "      <td>0</td>\n",
       "      <td>3</td>\n",
       "      <td>2</td>\n",
       "      <td>1</td>\n",
       "    </tr>\n",
       "    <tr>\n",
       "      <th>1</th>\n",
       "      <td>Scarborough</td>\n",
       "      <td>43.780445</td>\n",
       "      <td>-79.30049</td>\n",
       "      <td>Dark, artificial</td>\n",
       "      <td>Dry</td>\n",
       "      <td>40</td>\n",
       "      <td>8</td>\n",
       "      <td>0</td>\n",
       "      <td>3</td>\n",
       "      <td>2</td>\n",
       "      <td>1</td>\n",
       "    </tr>\n",
       "  </tbody>\n",
       "</table>\n",
       "</div>"
      ],
      "text/plain": [
       "            district   latitude  longitude             light rdsfcond  \\\n",
       "0  Toronto East York  43.651545  -79.38349              Dark      Dry   \n",
       "1        Scarborough  43.780445  -79.30049  Dark, artificial      Dry   \n",
       "\n",
       "   ward_id  accident_month  critically_injured  time_period  road_type  \\\n",
       "0       27               8                   0            3          2   \n",
       "1       40               8                   0            3          2   \n",
       "\n",
       "   poor_driving_conditions  \n",
       "0                        1  \n",
       "1                        1  "
      ]
     },
     "execution_count": 17,
     "metadata": {},
     "output_type": "execute_result"
    }
   ],
   "source": [
    "df1['poor_driving_conditions'] = df1['visibility'].apply(driving_conditions)\n",
    "# Drop visibility\n",
    "df1.drop(columns='visibility', axis=1, inplace=True)\n",
    "df1.head(2)"
   ]
  },
  {
   "cell_type": "code",
   "execution_count": 18,
   "metadata": {},
   "outputs": [
    {
     "data": {
      "text/html": [
       "<div>\n",
       "<style scoped>\n",
       "    .dataframe tbody tr th:only-of-type {\n",
       "        vertical-align: middle;\n",
       "    }\n",
       "\n",
       "    .dataframe tbody tr th {\n",
       "        vertical-align: top;\n",
       "    }\n",
       "\n",
       "    .dataframe thead th {\n",
       "        text-align: right;\n",
       "    }\n",
       "</style>\n",
       "<table border=\"1\" class=\"dataframe\">\n",
       "  <thead>\n",
       "    <tr style=\"text-align: right;\">\n",
       "      <th></th>\n",
       "      <th>district</th>\n",
       "      <th>latitude</th>\n",
       "      <th>longitude</th>\n",
       "      <th>ward_id</th>\n",
       "      <th>accident_month</th>\n",
       "      <th>critically_injured</th>\n",
       "      <th>time_period</th>\n",
       "      <th>road_type</th>\n",
       "      <th>poor_driving_conditions</th>\n",
       "    </tr>\n",
       "  </thead>\n",
       "  <tbody>\n",
       "    <tr>\n",
       "      <th>0</th>\n",
       "      <td>Toronto East York</td>\n",
       "      <td>43.651545</td>\n",
       "      <td>-79.38349</td>\n",
       "      <td>27</td>\n",
       "      <td>8</td>\n",
       "      <td>0</td>\n",
       "      <td>3</td>\n",
       "      <td>2</td>\n",
       "      <td>1</td>\n",
       "    </tr>\n",
       "    <tr>\n",
       "      <th>1</th>\n",
       "      <td>Scarborough</td>\n",
       "      <td>43.780445</td>\n",
       "      <td>-79.30049</td>\n",
       "      <td>40</td>\n",
       "      <td>8</td>\n",
       "      <td>0</td>\n",
       "      <td>3</td>\n",
       "      <td>2</td>\n",
       "      <td>1</td>\n",
       "    </tr>\n",
       "  </tbody>\n",
       "</table>\n",
       "</div>"
      ],
      "text/plain": [
       "            district   latitude  longitude  ward_id  accident_month  \\\n",
       "0  Toronto East York  43.651545  -79.38349       27               8   \n",
       "1        Scarborough  43.780445  -79.30049       40               8   \n",
       "\n",
       "   critically_injured  time_period  road_type  poor_driving_conditions  \n",
       "0                   0            3          2                        1  \n",
       "1                   0            3          2                        1  "
      ]
     },
     "execution_count": 18,
     "metadata": {},
     "output_type": "execute_result"
    }
   ],
   "source": [
    "# Drop light and rdsfcond\n",
    "df1.drop(columns=['light','rdsfcond'], axis=1, inplace=True)\n",
    "df1.head(2)"
   ]
  },
  {
   "cell_type": "markdown",
   "metadata": {},
   "source": [
    "**District Tranformation**"
   ]
  },
  {
   "cell_type": "code",
   "execution_count": 19,
   "metadata": {},
   "outputs": [
    {
     "data": {
      "text/plain": [
       "array(['Toronto East York', 'Scarborough', 'Etobicoke York', 'North York',\n",
       "       ' ', 'No District'], dtype=object)"
      ]
     },
     "execution_count": 19,
     "metadata": {},
     "output_type": "execute_result"
    }
   ],
   "source": [
    "# Unique district values\n",
    "df1.district.unique()"
   ]
  },
  {
   "cell_type": "code",
   "execution_count": 20,
   "metadata": {},
   "outputs": [],
   "source": [
    "# District\n",
    "def district_mapping(district):\n",
    "    if district in ('Toronto East York'):\n",
    "        return 1\n",
    "    elif district in ('Scarborough'):\n",
    "        return 2\n",
    "    elif district in ('Etobicoke York'):\n",
    "        return 3\n",
    "    elif district in ('North York'):\n",
    "        return 4\n",
    "    elif district in (' ', 'No District'):\n",
    "        return 0"
   ]
  },
  {
   "cell_type": "code",
   "execution_count": 21,
   "metadata": {},
   "outputs": [
    {
     "data": {
      "text/html": [
       "<div>\n",
       "<style scoped>\n",
       "    .dataframe tbody tr th:only-of-type {\n",
       "        vertical-align: middle;\n",
       "    }\n",
       "\n",
       "    .dataframe tbody tr th {\n",
       "        vertical-align: top;\n",
       "    }\n",
       "\n",
       "    .dataframe thead th {\n",
       "        text-align: right;\n",
       "    }\n",
       "</style>\n",
       "<table border=\"1\" class=\"dataframe\">\n",
       "  <thead>\n",
       "    <tr style=\"text-align: right;\">\n",
       "      <th></th>\n",
       "      <th>latitude</th>\n",
       "      <th>longitude</th>\n",
       "      <th>ward_id</th>\n",
       "      <th>accident_month</th>\n",
       "      <th>critically_injured</th>\n",
       "      <th>time_period</th>\n",
       "      <th>road_type</th>\n",
       "      <th>poor_driving_conditions</th>\n",
       "      <th>district_code</th>\n",
       "    </tr>\n",
       "  </thead>\n",
       "  <tbody>\n",
       "    <tr>\n",
       "      <th>0</th>\n",
       "      <td>43.651545</td>\n",
       "      <td>-79.38349</td>\n",
       "      <td>27</td>\n",
       "      <td>8</td>\n",
       "      <td>0</td>\n",
       "      <td>3</td>\n",
       "      <td>2</td>\n",
       "      <td>1</td>\n",
       "      <td>1</td>\n",
       "    </tr>\n",
       "    <tr>\n",
       "      <th>1</th>\n",
       "      <td>43.780445</td>\n",
       "      <td>-79.30049</td>\n",
       "      <td>40</td>\n",
       "      <td>8</td>\n",
       "      <td>0</td>\n",
       "      <td>3</td>\n",
       "      <td>2</td>\n",
       "      <td>1</td>\n",
       "      <td>2</td>\n",
       "    </tr>\n",
       "  </tbody>\n",
       "</table>\n",
       "</div>"
      ],
      "text/plain": [
       "    latitude  longitude  ward_id  accident_month  critically_injured  \\\n",
       "0  43.651545  -79.38349       27               8                   0   \n",
       "1  43.780445  -79.30049       40               8                   0   \n",
       "\n",
       "   time_period  road_type  poor_driving_conditions  district_code  \n",
       "0            3          2                        1              1  \n",
       "1            3          2                        1              2  "
      ]
     },
     "execution_count": 21,
     "metadata": {},
     "output_type": "execute_result"
    }
   ],
   "source": [
    "df1['district_code'] = df1['district'].apply(district_mapping)\n",
    "df1.drop(columns='district', axis=1, inplace=True)\n",
    "df1.head(2)"
   ]
  },
  {
   "cell_type": "code",
   "execution_count": 22,
   "metadata": {},
   "outputs": [
    {
     "data": {
      "text/html": [
       "<div>\n",
       "<style scoped>\n",
       "    .dataframe tbody tr th:only-of-type {\n",
       "        vertical-align: middle;\n",
       "    }\n",
       "\n",
       "    .dataframe tbody tr th {\n",
       "        vertical-align: top;\n",
       "    }\n",
       "\n",
       "    .dataframe thead th {\n",
       "        text-align: right;\n",
       "    }\n",
       "</style>\n",
       "<table border=\"1\" class=\"dataframe\">\n",
       "  <thead>\n",
       "    <tr style=\"text-align: right;\">\n",
       "      <th></th>\n",
       "      <th>latitude</th>\n",
       "      <th>longitude</th>\n",
       "      <th>accident_month</th>\n",
       "      <th>critically_injured</th>\n",
       "      <th>time_period</th>\n",
       "      <th>road_type</th>\n",
       "      <th>poor_driving_conditions</th>\n",
       "      <th>district_code</th>\n",
       "    </tr>\n",
       "  </thead>\n",
       "  <tbody>\n",
       "    <tr>\n",
       "      <th>0</th>\n",
       "      <td>43.651545</td>\n",
       "      <td>-79.38349</td>\n",
       "      <td>8</td>\n",
       "      <td>0</td>\n",
       "      <td>3</td>\n",
       "      <td>2</td>\n",
       "      <td>1</td>\n",
       "      <td>1</td>\n",
       "    </tr>\n",
       "    <tr>\n",
       "      <th>1</th>\n",
       "      <td>43.780445</td>\n",
       "      <td>-79.30049</td>\n",
       "      <td>8</td>\n",
       "      <td>0</td>\n",
       "      <td>3</td>\n",
       "      <td>2</td>\n",
       "      <td>1</td>\n",
       "      <td>2</td>\n",
       "    </tr>\n",
       "  </tbody>\n",
       "</table>\n",
       "</div>"
      ],
      "text/plain": [
       "    latitude  longitude  accident_month  critically_injured  time_period  \\\n",
       "0  43.651545  -79.38349               8                   0            3   \n",
       "1  43.780445  -79.30049               8                   0            3   \n",
       "\n",
       "   road_type  poor_driving_conditions  district_code  \n",
       "0          2                        1              1  \n",
       "1          2                        1              2  "
      ]
     },
     "execution_count": 22,
     "metadata": {},
     "output_type": "execute_result"
    }
   ],
   "source": [
    "#Drop ward_id\n",
    "df1.drop(columns='ward_id', axis=1, inplace=True)\n",
    "df1.head(2)"
   ]
  },
  {
   "cell_type": "code",
   "execution_count": 23,
   "metadata": {},
   "outputs": [
    {
     "data": {
      "text/html": [
       "<div>\n",
       "<style scoped>\n",
       "    .dataframe tbody tr th:only-of-type {\n",
       "        vertical-align: middle;\n",
       "    }\n",
       "\n",
       "    .dataframe tbody tr th {\n",
       "        vertical-align: top;\n",
       "    }\n",
       "\n",
       "    .dataframe thead th {\n",
       "        text-align: right;\n",
       "    }\n",
       "</style>\n",
       "<table border=\"1\" class=\"dataframe\">\n",
       "  <thead>\n",
       "    <tr style=\"text-align: right;\">\n",
       "      <th></th>\n",
       "      <th>latitude</th>\n",
       "      <th>longitude</th>\n",
       "      <th>accident_month</th>\n",
       "      <th>critically_injured</th>\n",
       "      <th>time_period</th>\n",
       "      <th>road_type</th>\n",
       "      <th>poor_driving_conditions</th>\n",
       "      <th>district_code</th>\n",
       "    </tr>\n",
       "  </thead>\n",
       "  <tbody>\n",
       "    <tr>\n",
       "      <th>0</th>\n",
       "      <td>43.651545</td>\n",
       "      <td>-79.38349</td>\n",
       "      <td>8</td>\n",
       "      <td>0</td>\n",
       "      <td>3</td>\n",
       "      <td>2</td>\n",
       "      <td>1</td>\n",
       "      <td>1</td>\n",
       "    </tr>\n",
       "    <tr>\n",
       "      <th>1</th>\n",
       "      <td>43.780445</td>\n",
       "      <td>-79.30049</td>\n",
       "      <td>8</td>\n",
       "      <td>0</td>\n",
       "      <td>3</td>\n",
       "      <td>2</td>\n",
       "      <td>1</td>\n",
       "      <td>2</td>\n",
       "    </tr>\n",
       "  </tbody>\n",
       "</table>\n",
       "</div>"
      ],
      "text/plain": [
       "    latitude  longitude  accident_month  critically_injured  time_period  \\\n",
       "0  43.651545  -79.38349               8                   0            3   \n",
       "1  43.780445  -79.30049               8                   0            3   \n",
       "\n",
       "   road_type  poor_driving_conditions  district_code  \n",
       "0          2                        1              1  \n",
       "1          2                        1              2  "
      ]
     },
     "execution_count": 23,
     "metadata": {},
     "output_type": "execute_result"
    }
   ],
   "source": [
    "# Remove rows with no district values populated \n",
    "df1 = df1[df1.district_code != 0] #Only 10 rows\n",
    "df1.head(2)"
   ]
  },
  {
   "cell_type": "markdown",
   "metadata": {},
   "source": [
    "**Season Tranformation**\n",
    "\n",
    "Change month category as Seasons"
   ]
  },
  {
   "cell_type": "code",
   "execution_count": 24,
   "metadata": {},
   "outputs": [],
   "source": [
    "# Change month category as Seasons\n",
    "def season_code(month):\n",
    "    if month in (12,1,2,3):\n",
    "        return 1 # Winter\n",
    "    elif month in (4,5,6):\n",
    "        return 2 # Spring\n",
    "    elif month in (7,8,9):\n",
    "        return 3 # Summer\n",
    "    else:\n",
    "        return 4 # Fall"
   ]
  },
  {
   "cell_type": "code",
   "execution_count": 25,
   "metadata": {},
   "outputs": [
    {
     "data": {
      "text/html": [
       "<div>\n",
       "<style scoped>\n",
       "    .dataframe tbody tr th:only-of-type {\n",
       "        vertical-align: middle;\n",
       "    }\n",
       "\n",
       "    .dataframe tbody tr th {\n",
       "        vertical-align: top;\n",
       "    }\n",
       "\n",
       "    .dataframe thead th {\n",
       "        text-align: right;\n",
       "    }\n",
       "</style>\n",
       "<table border=\"1\" class=\"dataframe\">\n",
       "  <thead>\n",
       "    <tr style=\"text-align: right;\">\n",
       "      <th></th>\n",
       "      <th>latitude</th>\n",
       "      <th>longitude</th>\n",
       "      <th>critically_injured</th>\n",
       "      <th>time_period</th>\n",
       "      <th>road_type</th>\n",
       "      <th>poor_driving_conditions</th>\n",
       "      <th>district_code</th>\n",
       "      <th>season_code</th>\n",
       "    </tr>\n",
       "  </thead>\n",
       "  <tbody>\n",
       "    <tr>\n",
       "      <th>0</th>\n",
       "      <td>43.651545</td>\n",
       "      <td>-79.38349</td>\n",
       "      <td>0</td>\n",
       "      <td>3</td>\n",
       "      <td>2</td>\n",
       "      <td>1</td>\n",
       "      <td>1</td>\n",
       "      <td>3</td>\n",
       "    </tr>\n",
       "    <tr>\n",
       "      <th>1</th>\n",
       "      <td>43.780445</td>\n",
       "      <td>-79.30049</td>\n",
       "      <td>0</td>\n",
       "      <td>3</td>\n",
       "      <td>2</td>\n",
       "      <td>1</td>\n",
       "      <td>2</td>\n",
       "      <td>3</td>\n",
       "    </tr>\n",
       "  </tbody>\n",
       "</table>\n",
       "</div>"
      ],
      "text/plain": [
       "    latitude  longitude  critically_injured  time_period  road_type  \\\n",
       "0  43.651545  -79.38349                   0            3          2   \n",
       "1  43.780445  -79.30049                   0            3          2   \n",
       "\n",
       "   poor_driving_conditions  district_code  season_code  \n",
       "0                        1              1            3  \n",
       "1                        1              2            3  "
      ]
     },
     "execution_count": 25,
     "metadata": {},
     "output_type": "execute_result"
    }
   ],
   "source": [
    "# Apply Season code\n",
    "df1['season_code'] = df1['accident_month'].apply(season_code)\n",
    "# Drop visibility\n",
    "df1.drop(columns='accident_month', axis=1, inplace=True)\n",
    "df1.head(2)"
   ]
  },
  {
   "cell_type": "code",
   "execution_count": 26,
   "metadata": {},
   "outputs": [],
   "source": [
    "#Copy transformed data into new dataframe\n",
    "df2 = df1"
   ]
  },
  {
   "cell_type": "markdown",
   "metadata": {},
   "source": [
    "# 3.5\tBuilding a prediction Model using Random Forest Classifier method\n",
    "\n",
    "The accident data set is split into two groups - train and test. 25% of data is randomly selected as test data set while remaining 75% data is selected as training data set. The training data is then fitted under Random Forest Classifier model. Once fitted, the test data set is running against the fitted model and as below results indicate, this model resulted in a weighted average prediction of 50%. "
   ]
  },
  {
   "cell_type": "code",
   "execution_count": 27,
   "metadata": {},
   "outputs": [],
   "source": [
    "#Define response variable (y) and predictor variables (x)\n",
    "X = df2.drop('critically_injured',axis=1)\n",
    "y = df2['critically_injured']"
   ]
  },
  {
   "cell_type": "code",
   "execution_count": 28,
   "metadata": {},
   "outputs": [
    {
     "name": "stdout",
     "output_type": "stream",
     "text": [
      "              precision    recall  f1-score   support\n",
      "\n",
      "           0       0.54      0.59      0.56      1983\n",
      "           1       0.15      0.12      0.13      1153\n",
      "\n",
      "   micro avg       0.42      0.42      0.42      3136\n",
      "   macro avg       0.34      0.35      0.35      3136\n",
      "weighted avg       0.39      0.42      0.40      3136\n",
      "\n"
     ]
    }
   ],
   "source": [
    "# Split train and test data\n",
    "X_train, X_test, y_train, y_test = train_test_split(X,y,test_size=0.25, random_state=7)\n",
    "# Run random forecast classifier model; apply RFC\n",
    "rfc = RandomForestClassifier()\n",
    "rfc.fit(X_train, y_train)\n",
    "y_pred_rfc = rfc.predict(X_test)\n",
    "# Check accuracy of model prediction\n",
    "print(classification_report(y_test,y_pred_rfc))"
   ]
  },
  {
   "cell_type": "code",
   "execution_count": 29,
   "metadata": {},
   "outputs": [
    {
     "name": "stdout",
     "output_type": "stream",
     "text": [
      "[[1165  818]\n",
      " [1012  141]]\n"
     ]
    }
   ],
   "source": [
    "cm = confusion_matrix(y_test, y_pred_rfc)\n",
    "print(cm)"
   ]
  },
  {
   "cell_type": "code",
   "execution_count": 30,
   "metadata": {},
   "outputs": [
    {
     "data": {
      "text/plain": [
       "0.4164540816326531"
      ]
     },
     "execution_count": 30,
     "metadata": {},
     "output_type": "execute_result"
    }
   ],
   "source": [
    "accuracy_score(y_test, y_pred_rfc)"
   ]
  },
  {
   "cell_type": "code",
   "execution_count": 31,
   "metadata": {},
   "outputs": [],
   "source": [
    "# Function to Plot confusion matrix\n",
    "def plot_confusion_matrix(cm,\n",
    "                          target_names,\n",
    "                          title='Confusion Matrix',\n",
    "                          cmap=None,\n",
    "                          normalize=True):\n",
    "\n",
    "    accuracy = np.trace(cm) / float(np.sum(cm))\n",
    "    misclass = 1 - accuracy\n",
    "\n",
    "    if cmap is None:\n",
    "        cmap = plt.get_cmap('Blues')\n",
    "\n",
    "    plt.figure(figsize=(10, 10))\n",
    "    plt.imshow(cm, interpolation='nearest', cmap=cmap)\n",
    "    plt.title(title, fontsize = 16)\n",
    "    plt.colorbar()\n",
    "\n",
    "    if target_names is not None:\n",
    "        tick_marks = np.arange(len(target_names))\n",
    "        plt.xticks(tick_marks, target_names, rotation=45, fontsize = 12)\n",
    "        plt.yticks(tick_marks, target_names,fontsize = 12)\n",
    "\n",
    "    if normalize:\n",
    "        cm = cm.astype('float') / cm.sum(axis=1)[:, np.newaxis]\n",
    "\n",
    "\n",
    "    thresh = cm.max() / 1.5 if normalize else cm.max() / 2\n",
    "    for i, j in itertools.product(range(cm.shape[0]), range(cm.shape[1])):\n",
    "        if normalize:\n",
    "            plt.text(j, i, \"{:0.4f}\".format(cm[i, j]), fontsize = 12,\n",
    "                     horizontalalignment=\"center\",\n",
    "                     color=\"white\" if cm[i, j] > thresh else \"black\")\n",
    "        else:\n",
    "            plt.text(j, i, \"{:,}\".format(cm[i, j]),fontsize = 12,\n",
    "                     horizontalalignment=\"center\",\n",
    "                     color=\"white\" if cm[i, j] > thresh else \"black\")\n",
    "\n",
    "\n",
    "    #plt.tight_layout()\n",
    "    plt.ylabel('True label', fontsize = 12)\n",
    "    plt.xlabel('Predicted label\\naccuracy={:0.4f}; misclass={:0.4f}'.format(accuracy, misclass), fontsize = 12)\n",
    "    plt.grid(None)\n",
    "    plt.show()"
   ]
  },
  {
   "cell_type": "code",
   "execution_count": 32,
   "metadata": {},
   "outputs": [
    {
     "data": {
      "image/png": "[encoded data removed]",
      "text/plain": [
       "<Figure size 720x720 with 2 Axes>"
      ]
     },
     "metadata": {
      "needs_background": "light"
     },
     "output_type": "display_data"
    },
    {
     "data": {
      "text/plain": [
       "<Figure size 432x288 with 0 Axes>"
      ]
     },
     "metadata": {},
     "output_type": "display_data"
    }
   ],
   "source": [
    "plot_confusion_matrix(cm, \n",
    "                      normalize    = False,\n",
    "                      target_names = ['No Severe Injury','Severe Injury'],\n",
    "                      title        = \"Confusion Matrix - Random Forest Classifier\")\n",
    "plt.savefig('ForA.png')"
   ]
  },
  {
   "cell_type": "code",
   "execution_count": 33,
   "metadata": {},
   "outputs": [
    {
     "data": {
      "text/plain": [
       "0.3548916877587857"
      ]
     },
     "execution_count": 33,
     "metadata": {},
     "output_type": "execute_result"
    }
   ],
   "source": [
    "from sklearn.metrics import roc_curve, auc\n",
    "false_positive_rate, true_positive_rate, thresholds = roc_curve(y_test, y_pred_rfc)\n",
    "roc_auc = auc(false_positive_rate, true_positive_rate)\n",
    "roc_auc"
   ]
  },
  {
   "cell_type": "markdown",
   "metadata": {},
   "source": [
    "As the prediction accuracy is only 41%, the data is further analysed to find the best parameter (n_estimator) which would give a higher prediction accuracy. A test was conducted for various values of n_estimator [1, 2, 4, 8, 16, 32, 64, 100, 200] and accuracy score was measured."
   ]
  },
  {
   "cell_type": "code",
   "execution_count": 34,
   "metadata": {},
   "outputs": [
    {
     "data": {
      "image/png": "[encoded data removed]",
      "text/plain": [
       "<Figure size 720x432 with 1 Axes>"
      ]
     },
     "metadata": {
      "needs_background": "light"
     },
     "output_type": "display_data"
    },
    {
     "data": {
      "text/plain": [
       "<Figure size 432x288 with 0 Axes>"
      ]
     },
     "metadata": {},
     "output_type": "display_data"
    }
   ],
   "source": [
    "# Tuning the model\n",
    "n_estimators = [1, 2, 4, 8, 16, 32, 64, 100, 200]\n",
    "train_results = []\n",
    "test_results = []\n",
    "for estimator in n_estimators:\n",
    "   rf = RandomForestClassifier(n_estimators=estimator, n_jobs=-1)\n",
    "   rf.fit(X_train, y_train)\n",
    "   train_pred = rf.predict(X_train)\n",
    "   false_positive_rate, true_positive_rate, thresholds = roc_curve(y_train, train_pred)\n",
    "   roc_auc = auc(false_positive_rate, true_positive_rate)\n",
    "   train_results.append(roc_auc)\n",
    "   y_pred = rf.predict(X_test)\n",
    "   false_positive_rate, true_positive_rate, thresholds = roc_curve(y_test, y_pred)\n",
    "   roc_auc = auc(false_positive_rate, true_positive_rate)\n",
    "   test_results.append(roc_auc)\n",
    "    \n",
    "plt.figure(figsize=(10, 6))\n",
    "from matplotlib.legend_handler import HandlerLine2D\n",
    "line1, = plt.plot(n_estimators, train_results, color = 'blue', label= \"Train AUC\")\n",
    "line2, = plt.plot(n_estimators, test_results, color = 'red', label= \"Test AUC\")\n",
    "plt.legend(handler_map={line1: HandlerLine2D(numpoints=2)})\n",
    "plt.title('Random Forecast Classifier Model - Coarse', fontsize=24)\n",
    "plt.ylabel('AUC score')\n",
    "plt.xlabel('n_estimators')\n",
    "plt.show()\n",
    "plt.savefig('ForB.png')"
   ]
  },
  {
   "cell_type": "markdown",
   "metadata": {},
   "source": [
    "As per the above graph, it is evident that the value of estimators cannot be further adjusted to increase the accuracy score."
   ]
  },
  {
   "cell_type": "code",
   "execution_count": 35,
   "metadata": {},
   "outputs": [
    {
     "data": {
      "image/png": "[encoded data removed]",
      "text/plain": [
       "<Figure size 720x432 with 1 Axes>"
      ]
     },
     "metadata": {
      "needs_background": "light"
     },
     "output_type": "display_data"
    },
    {
     "data": {
      "text/plain": [
       "<Figure size 432x288 with 0 Axes>"
      ]
     },
     "metadata": {},
     "output_type": "display_data"
    }
   ],
   "source": [
    "# Tuning the model\n",
    "max_depths = np.linspace(1, 32, 32, endpoint=True)\n",
    "train_results = []\n",
    "test_results = []\n",
    "for max_depth in max_depths:\n",
    "   rf = RandomForestClassifier(max_depth=max_depth, n_jobs=-1)\n",
    "   rf.fit(X_train, y_train)\n",
    "   train_pred = rf.predict(X_train)\n",
    "   false_positive_rate, true_positive_rate, thresholds = roc_curve(y_train, train_pred)\n",
    "   roc_auc = auc(false_positive_rate, true_positive_rate)\n",
    "   train_results.append(roc_auc)\n",
    "   y_pred = rf.predict(X_test)\n",
    "   false_positive_rate, true_positive_rate, thresholds = roc_curve(y_test, y_pred)\n",
    "   roc_auc = auc(false_positive_rate, true_positive_rate)\n",
    "   test_results.append(roc_auc)\n",
    "\n",
    "plt.figure(figsize=(10, 6))\n",
    "from matplotlib.legend_handler import HandlerLine2D\n",
    "line1, = plt.plot(max_depths, train_results, 'b', label='Train AUC')\n",
    "line2, = plt.plot(max_depths, test_results, 'r', label='Test AUC')\n",
    "plt.legend(handler_map={line1: HandlerLine2D(numpoints=2)})\n",
    "plt.title('Random Forecast Classifier Model - Tuned', fontsize=24)\n",
    "plt.ylabel('AUC score')\n",
    "plt.xlabel('Tree depth')\n",
    "\n",
    "plt.show()\n",
    "plt.savefig('ForC.png')"
   ]
  },
  {
   "cell_type": "markdown",
   "metadata": {},
   "source": [
    "In addition to tuning the n_estimator value, various value of max_depth parameter was tested to see if it improves accuracy score. But as the above results indicate, changing the max_depth value doesn’t seem to improve the prediction accuracy significantly."
   ]
  },
  {
   "cell_type": "markdown",
   "metadata": {},
   "source": [
    "# 3.6\tBuilding a prediction Model using Logistic Regression method\n",
    "\n",
    "The accident data set is split into two groups - train and test. 25% of data is randomly selected as test data set while remaining 75% data is selected as training data set. The training data is then fitted under Logistic Regression Model. Once fitted, the test data set is running against the fitted model and as below results indicate, this model resulted in a weighted average prediction of 38%. "
   ]
  },
  {
   "cell_type": "code",
   "execution_count": 36,
   "metadata": {},
   "outputs": [],
   "source": [
    "# Split train and test data\n",
    "X_train, X_test, y_train, y_test = train_test_split(X,y,test_size=0.25, random_state=8)"
   ]
  },
  {
   "cell_type": "code",
   "execution_count": 37,
   "metadata": {},
   "outputs": [
    {
     "name": "stdout",
     "output_type": "stream",
     "text": [
      "              precision    recall  f1-score   support\n",
      "\n",
      "           0       0.62      1.00      0.76      1932\n",
      "           1       0.00      0.00      0.00      1204\n",
      "\n",
      "   micro avg       0.62      0.62      0.62      3136\n",
      "   macro avg       0.31      0.50      0.38      3136\n",
      "weighted avg       0.38      0.62      0.47      3136\n",
      "\n"
     ]
    }
   ],
   "source": [
    "# Initiating Logistic Regression model\n",
    "log_reg=linear_model.LogisticRegression()\n",
    "log_reg=log_reg.fit(X_train, y_train)\n",
    "y_pred_lr=log_reg.predict(X_test)\n",
    "print(classification_report(y_test,y_pred_lr)"
   ]
  },
  {
   "cell_type": "code",
   "execution_count": 38,
   "metadata": {},
   "outputs": [
    {
     "name": "stdout",
     "output_type": "stream",
     "text": [
      "[[1932    0]\n",
      " [1204    0]]\n"
     ]
    }
   ],
   "source": [
    "cm = confusion_matrix(y_test, y_pred_lr)\n",
    "print(cm)"
   ]
  },
  {
   "cell_type": "code",
   "execution_count": 39,
   "metadata": {},
   "outputs": [
    {
     "data": {
      "text/plain": [
       "0.6160714285714286"
      ]
     },
     "execution_count": 39,
     "metadata": {},
     "output_type": "execute_result"
    }
   ],
   "source": [
    "accuracy_score(y_test, y_pred_lr)"
   ]
  },
  {
   "cell_type": "code",
   "execution_count": 40,
   "metadata": {
    "scrolled": false
   },
   "outputs": [
    {
     "data": {
      "image/png": "[encoded data removed]",
      "text/plain": [
       "<Figure size 720x720 with 2 Axes>"
      ]
     },
     "metadata": {
      "needs_background": "light"
     },
     "output_type": "display_data"
    },
    {
     "data": {
      "text/plain": [
       "<Figure size 432x288 with 0 Axes>"
      ]
     },
     "metadata": {},
     "output_type": "display_data"
    }
   ],
   "source": [
    "plot_confusion_matrix(cm, \n",
    "                      normalize    = False,\n",
    "                      target_names = ['No Severe Injury','Severe Injury'],\n",
    "                      title        = \"Confusion Matrix - Logistic Regression\")\n",
    "plt.savefig('RegA.png')"
   ]
  },
  {
   "cell_type": "markdown",
   "metadata": {},
   "source": [
    "# 4.0\tHypothesis Testing"
   ]
  },
  {
   "cell_type": "markdown",
   "metadata": {},
   "source": [
    "# 4.1\tIntroduction to Hypothesis Testing:\n",
    "\n",
    "A statistical hypothesis, sometimes called confirmatory data analysis, is a hypothesis that is testable on the basis of observing a process that is modeled via a set of random variables. A statistical hypothesis test is a method of statistical inference. Commonly, two statistical data sets are compared, or a data set obtained by sampling is compared against a synthetic data set from an idealized model. A hypothesis is proposed for the statistical relationship between the two data sets, and this is compared as an alternative to an idealized null hypothesis that proposes no relationship between two data sets. The comparison is deemed statistically significant if the relationship between the data sets would be an unlikely realization of the null hypothesis according to a threshold probability—the significance level. Hypothesis tests are used when determining what outcomes of a study would lead to a rejection of the null hypothesis for a pre-specified level of significance."
   ]
  },
  {
   "cell_type": "markdown",
   "metadata": {},
   "source": [
    "# 4.2\tFraming the hypothesis:\n",
    "\n",
    "Number of severely injured road accidents in Toronto City is on the decline. To provide this, a hypothesis test is conducted. Null and Alternate Hypothesis are as follows:\n",
    "\n",
    "1.\tNull Hypothesis: There is no difference between monthly average of critically injured road accidents in the recent 4-year period (2014-2018) and previous 4-year period (2010-2014)\n",
    "\n",
    "<center>$ $H_{0}$ : Mean $(\\mu)$ = 36 $</center>\n",
    "\n",
    "2.\tAlternate Hypothesis: monthly average of critically injured road accidents in Toronto City has declined during the 4-year period (2014-2018) when compared with previous 4-year period (2010-2014)\n",
    "\n",
    "<center>$ $H_{A}$: Mean $(\\mu)$ < 36 $</center>\n",
    "\n",
    "In order to test the above hypothesis, student t-test method was chosen as the data set meets the following criteria to run a student t-test:\n",
    "\n",
    "- Data sets are independant observation\n",
    "- Data sets are near normal or normal distribution\n",
    "- Observations are > 30\n",
    "- There are no outliers"
   ]
  },
  {
   "cell_type": "code",
   "execution_count": 41,
   "metadata": {},
   "outputs": [],
   "source": [
    "# Road classification\n",
    "def road_classification(road_class):\n",
    "    if road_class in ('Expressway'):\n",
    "        return 'Expressway'\n",
    "    else:\n",
    "        return 'Non Expressway'\n",
    "    \n",
    "# Transform accident injury - Severe or Non-Severe\n",
    "def injury_type(injury):\n",
    "    if injury in ('Fatal','Major'):\n",
    "        return 'Severe Injury'\n",
    "    else:\n",
    "        return 'Non-Severe Injury'"
   ]
  },
  {
   "cell_type": "code",
   "execution_count": 42,
   "metadata": {},
   "outputs": [
    {
     "data": {
      "text/html": [
       "<div>\n",
       "<style scoped>\n",
       "    .dataframe tbody tr th:only-of-type {\n",
       "        vertical-align: middle;\n",
       "    }\n",
       "\n",
       "    .dataframe tbody tr th {\n",
       "        vertical-align: top;\n",
       "    }\n",
       "\n",
       "    .dataframe thead th {\n",
       "        text-align: right;\n",
       "    }\n",
       "</style>\n",
       "<table border=\"1\" class=\"dataframe\">\n",
       "  <thead>\n",
       "    <tr style=\"text-align: right;\">\n",
       "      <th></th>\n",
       "      <th>year</th>\n",
       "      <th>time</th>\n",
       "      <th>hour</th>\n",
       "      <th>road_class</th>\n",
       "      <th>visibility</th>\n",
       "      <th>light</th>\n",
       "      <th>rdsfcond</th>\n",
       "      <th>injury</th>\n",
       "      <th>ward_id</th>\n",
       "      <th>road_type</th>\n",
       "      <th>injury_type</th>\n",
       "      <th>accident_count</th>\n",
       "    </tr>\n",
       "    <tr>\n",
       "      <th>date</th>\n",
       "      <th></th>\n",
       "      <th></th>\n",
       "      <th></th>\n",
       "      <th></th>\n",
       "      <th></th>\n",
       "      <th></th>\n",
       "      <th></th>\n",
       "      <th></th>\n",
       "      <th></th>\n",
       "      <th></th>\n",
       "      <th></th>\n",
       "      <th></th>\n",
       "    </tr>\n",
       "  </thead>\n",
       "  <tbody>\n",
       "    <tr>\n",
       "      <th>2011-08-04</th>\n",
       "      <td>2011</td>\n",
       "      <td>2318</td>\n",
       "      <td>23</td>\n",
       "      <td>Major Arterial</td>\n",
       "      <td>Clear</td>\n",
       "      <td>Dark</td>\n",
       "      <td>Dry</td>\n",
       "      <td>None</td>\n",
       "      <td>27</td>\n",
       "      <td>Non Expressway</td>\n",
       "      <td>Non-Severe Injury</td>\n",
       "      <td>1</td>\n",
       "    </tr>\n",
       "    <tr>\n",
       "      <th>2012-08-19</th>\n",
       "      <td>2012</td>\n",
       "      <td>2318</td>\n",
       "      <td>23</td>\n",
       "      <td>Major Arterial</td>\n",
       "      <td>Clear</td>\n",
       "      <td>Dark, artificial</td>\n",
       "      <td>Dry</td>\n",
       "      <td>Minimal</td>\n",
       "      <td>40</td>\n",
       "      <td>Non Expressway</td>\n",
       "      <td>Non-Severe Injury</td>\n",
       "      <td>1</td>\n",
       "    </tr>\n",
       "  </tbody>\n",
       "</table>\n",
       "</div>"
      ],
      "text/plain": [
       "            year  time  hour      road_class visibility             light  \\\n",
       "date                                                                        \n",
       "2011-08-04  2011  2318    23  Major Arterial      Clear              Dark   \n",
       "2012-08-19  2012  2318    23  Major Arterial      Clear  Dark, artificial   \n",
       "\n",
       "           rdsfcond   injury  ward_id       road_type        injury_type  \\\n",
       "date                                                                       \n",
       "2011-08-04      Dry     None       27  Non Expressway  Non-Severe Injury   \n",
       "2012-08-19      Dry  Minimal       40  Non Expressway  Non-Severe Injury   \n",
       "\n",
       "            accident_count  \n",
       "date                        \n",
       "2011-08-04               1  \n",
       "2012-08-19               1  "
      ]
     },
     "execution_count": 42,
     "metadata": {},
     "output_type": "execute_result"
    }
   ],
   "source": [
    "# Load the raw data data - accident\n",
    "raw_ksi_data=pd.read_csv(file_path)\n",
    "\n",
    "# Transform data - column names\n",
    "column_names=list(raw_ksi_data.columns)\n",
    "new_col_names=[]\n",
    "for names in column_names:\n",
    "    new_col_names.append(names.lower())\n",
    "ksi_data=raw_ksi_data.copy()\n",
    "ksi_data.columns=new_col_names\n",
    "\n",
    "# drop columns that are not needed for analysis\n",
    "columns_to_drop=['x','y','index_','acclass','accnum', 'street1',\n",
    "       'street2', 'offset','district', 'latitude', 'longitude',\n",
    "       'loccoord', 'accloc', 'traffctl', 'impactype', 'invtype', 'invage', 'fatal_no',\n",
    "       'initdir', 'vehtype', 'manoeuver', 'drivact', 'drivcond', 'pedtype',\n",
    "       'pedact', 'pedcond', 'cyclistype', 'cycact', 'cyccond', 'pedestrian',\n",
    "       'cyclist', 'automobile', 'motorcycle', 'truck', 'trsn_city_veh',\n",
    "       'emerg_veh', 'passenger', 'speeding', 'ag_driv', 'redlight', 'alcohol',\n",
    "       'disability', 'division', 'ward_name', 'hood_id',\n",
    "       'hood_name', 'fid']\n",
    "# Retain only the columns needed for analysis\n",
    "df3 = ksi_data.drop(columns=columns_to_drop, axis=1)\n",
    "\n",
    "# Transform date\n",
    "df3['date']= df3['date'].apply(lambda x : x[:10])\n",
    "df3['date']=pd.to_datetime(df3['date'])\n",
    "\n",
    "# Understanding the various types of accidents on road types\n",
    "df1_contingency = pd.crosstab(df3['injury'],df3['road_class'])\n",
    "df1_contingency.head()\n",
    "\n",
    "# Road classification\n",
    "df3['road_type'] = df3['road_class'].apply(road_classification)\n",
    "\n",
    "# Transform accident injury - Severe or Non-Severe\n",
    "df3['injury_type'] = df3['injury'].apply(injury_type)\n",
    "df3.set_index('date', inplace=True)\n",
    "\n",
    "# Add column for calculation purposes\n",
    "df3['accident_count'] = 1\n",
    "df3.head(2)"
   ]
  },
  {
   "cell_type": "code",
   "execution_count": 43,
   "metadata": {},
   "outputs": [
    {
     "data": {
      "text/html": [
       "<div>\n",
       "<style scoped>\n",
       "    .dataframe tbody tr th:only-of-type {\n",
       "        vertical-align: middle;\n",
       "    }\n",
       "\n",
       "    .dataframe tbody tr th {\n",
       "        vertical-align: top;\n",
       "    }\n",
       "\n",
       "    .dataframe thead th {\n",
       "        text-align: right;\n",
       "    }\n",
       "</style>\n",
       "<table border=\"1\" class=\"dataframe\">\n",
       "  <thead>\n",
       "    <tr style=\"text-align: right;\">\n",
       "      <th></th>\n",
       "      <th>accident_count</th>\n",
       "    </tr>\n",
       "    <tr>\n",
       "      <th>date</th>\n",
       "      <th></th>\n",
       "    </tr>\n",
       "  </thead>\n",
       "  <tbody>\n",
       "    <tr>\n",
       "      <th>2007-01-31</th>\n",
       "      <td>102</td>\n",
       "    </tr>\n",
       "    <tr>\n",
       "      <th>2007-02-28</th>\n",
       "      <td>123</td>\n",
       "    </tr>\n",
       "    <tr>\n",
       "      <th>2007-03-31</th>\n",
       "      <td>114</td>\n",
       "    </tr>\n",
       "  </tbody>\n",
       "</table>\n",
       "</div>"
      ],
      "text/plain": [
       "            accident_count\n",
       "date                      \n",
       "2007-01-31             102\n",
       "2007-02-28             123\n",
       "2007-03-31             114"
      ]
     },
     "execution_count": 43,
     "metadata": {},
     "output_type": "execute_result"
    }
   ],
   "source": [
    "# Check if the accident observations are normal or near normal distribution\n",
    "df3_resampled=pd.DataFrame(df3.accident_count.resample('M').sum())\n",
    "df3_resampled.head(3)"
   ]
  },
  {
   "cell_type": "code",
   "execution_count": 44,
   "metadata": {},
   "outputs": [
    {
     "data": {
      "image/png": "[encoded data removed]",
      "text/plain": [
       "<Figure size 720x432 with 1 Axes>"
      ]
     },
     "metadata": {
      "needs_background": "light"
     },
     "output_type": "display_data"
    }
   ],
   "source": [
    "plt.figure(figsize=(10, 6))\n",
    "sns.distplot(df3_resampled.accident_count,bins=10)\n",
    "plt.title(\"Distribution of  accident  data  in Toronto City between 2007 to 2017\", fontsize = 20);\n",
    "plt.savefig('HYP-a.png', bbox_inches='tight')"
   ]
  },
  {
   "cell_type": "code",
   "execution_count": 45,
   "metadata": {},
   "outputs": [
    {
     "data": {
      "image/png": "[encoded data removed]",
      "text/plain": [
       "<Figure size 864x432 with 1 Axes>"
      ]
     },
     "metadata": {
      "needs_background": "light"
     },
     "output_type": "display_data"
    }
   ],
   "source": [
    "plt.figure(figsize=(12, 6))\n",
    "sns.lineplot(data=df3_resampled, x=df3_resampled.index, y='accident_count')\n",
    "plt.title(\"Time series view of sample accident data in Toronto City between 2007 to 2017\", fontsize = 20);\n",
    "plt.savefig('HYP-b.png', bbox_inches='tight')"
   ]
  },
  {
   "cell_type": "code",
   "execution_count": 46,
   "metadata": {},
   "outputs": [
    {
     "data": {
      "text/html": [
       "<div>\n",
       "<style scoped>\n",
       "    .dataframe tbody tr th:only-of-type {\n",
       "        vertical-align: middle;\n",
       "    }\n",
       "\n",
       "    .dataframe tbody tr th {\n",
       "        vertical-align: top;\n",
       "    }\n",
       "\n",
       "    .dataframe thead th {\n",
       "        text-align: right;\n",
       "    }\n",
       "</style>\n",
       "<table border=\"1\" class=\"dataframe\">\n",
       "  <thead>\n",
       "    <tr style=\"text-align: right;\">\n",
       "      <th>road_class</th>\n",
       "      <th>Collector</th>\n",
       "      <th>Expressway</th>\n",
       "      <th>Expressway Ramp</th>\n",
       "      <th>Laneway</th>\n",
       "      <th>Local</th>\n",
       "      <th>Major Arterial</th>\n",
       "      <th>Major Arterial Ramp</th>\n",
       "      <th>Minor Arterial</th>\n",
       "    </tr>\n",
       "    <tr>\n",
       "      <th>injury</th>\n",
       "      <th></th>\n",
       "      <th></th>\n",
       "      <th></th>\n",
       "      <th></th>\n",
       "      <th></th>\n",
       "      <th></th>\n",
       "      <th></th>\n",
       "      <th></th>\n",
       "    </tr>\n",
       "  </thead>\n",
       "  <tbody>\n",
       "    <tr>\n",
       "      <th></th>\n",
       "      <td>92</td>\n",
       "      <td>58</td>\n",
       "      <td>3</td>\n",
       "      <td>0</td>\n",
       "      <td>69</td>\n",
       "      <td>1018</td>\n",
       "      <td>1</td>\n",
       "      <td>231</td>\n",
       "    </tr>\n",
       "    <tr>\n",
       "      <th>Fatal</th>\n",
       "      <td>37</td>\n",
       "      <td>21</td>\n",
       "      <td>1</td>\n",
       "      <td>1</td>\n",
       "      <td>40</td>\n",
       "      <td>395</td>\n",
       "      <td>1</td>\n",
       "      <td>97</td>\n",
       "    </tr>\n",
       "    <tr>\n",
       "      <th>Major</th>\n",
       "      <td>265</td>\n",
       "      <td>111</td>\n",
       "      <td>10</td>\n",
       "      <td>1</td>\n",
       "      <td>252</td>\n",
       "      <td>2779</td>\n",
       "      <td>2</td>\n",
       "      <td>734</td>\n",
       "    </tr>\n",
       "    <tr>\n",
       "      <th>Minimal</th>\n",
       "      <td>25</td>\n",
       "      <td>36</td>\n",
       "      <td>1</td>\n",
       "      <td>0</td>\n",
       "      <td>29</td>\n",
       "      <td>596</td>\n",
       "      <td>2</td>\n",
       "      <td>104</td>\n",
       "    </tr>\n",
       "    <tr>\n",
       "      <th>Minor</th>\n",
       "      <td>34</td>\n",
       "      <td>41</td>\n",
       "      <td>5</td>\n",
       "      <td>0</td>\n",
       "      <td>27</td>\n",
       "      <td>729</td>\n",
       "      <td>0</td>\n",
       "      <td>133</td>\n",
       "    </tr>\n",
       "  </tbody>\n",
       "</table>\n",
       "</div>"
      ],
      "text/plain": [
       "road_class  Collector  Expressway  Expressway Ramp  Laneway  Local  \\\n",
       "injury                                                               \n",
       "                   92          58                3        0     69   \n",
       "Fatal              37          21                1        1     40   \n",
       "Major             265         111               10        1    252   \n",
       "Minimal            25          36                1        0     29   \n",
       "Minor              34          41                5        0     27   \n",
       "\n",
       "road_class  Major Arterial  Major Arterial Ramp  Minor Arterial  \n",
       "injury                                                           \n",
       "                      1018                    1             231  \n",
       "Fatal                  395                    1              97  \n",
       "Major                 2779                    2             734  \n",
       "Minimal                596                    2             104  \n",
       "Minor                  729                    0             133  "
      ]
     },
     "execution_count": 46,
     "metadata": {},
     "output_type": "execute_result"
    }
   ],
   "source": [
    "# Different classes of Injury vs Road type where accidents happened\n",
    "df3_contingency = pd.crosstab(df3['road_type'],df3['injury_type'])\n",
    "df1_contingency.head()"
   ]
  },
  {
   "cell_type": "code",
   "execution_count": 47,
   "metadata": {},
   "outputs": [
    {
     "data": {
      "text/html": [
       "<div>\n",
       "<style scoped>\n",
       "    .dataframe tbody tr th:only-of-type {\n",
       "        vertical-align: middle;\n",
       "    }\n",
       "\n",
       "    .dataframe tbody tr th {\n",
       "        vertical-align: top;\n",
       "    }\n",
       "\n",
       "    .dataframe thead th {\n",
       "        text-align: right;\n",
       "    }\n",
       "</style>\n",
       "<table border=\"1\" class=\"dataframe\">\n",
       "  <thead>\n",
       "    <tr style=\"text-align: right;\">\n",
       "      <th></th>\n",
       "      <th>year</th>\n",
       "      <th>time</th>\n",
       "      <th>hour</th>\n",
       "      <th>road_class</th>\n",
       "      <th>visibility</th>\n",
       "      <th>light</th>\n",
       "      <th>rdsfcond</th>\n",
       "      <th>injury</th>\n",
       "      <th>ward_id</th>\n",
       "      <th>road_type</th>\n",
       "      <th>injury_type</th>\n",
       "      <th>accident_count</th>\n",
       "    </tr>\n",
       "    <tr>\n",
       "      <th>date</th>\n",
       "      <th></th>\n",
       "      <th></th>\n",
       "      <th></th>\n",
       "      <th></th>\n",
       "      <th></th>\n",
       "      <th></th>\n",
       "      <th></th>\n",
       "      <th></th>\n",
       "      <th></th>\n",
       "      <th></th>\n",
       "      <th></th>\n",
       "      <th></th>\n",
       "    </tr>\n",
       "  </thead>\n",
       "  <tbody>\n",
       "    <tr>\n",
       "      <th>2015-12-30</th>\n",
       "      <td>2015</td>\n",
       "      <td>2339</td>\n",
       "      <td>23</td>\n",
       "      <td>Major Arterial</td>\n",
       "      <td>Clear</td>\n",
       "      <td>Dark, artificial</td>\n",
       "      <td>Dry</td>\n",
       "      <td>Fatal</td>\n",
       "      <td>30</td>\n",
       "      <td>Non Expressway</td>\n",
       "      <td>Severe Injury</td>\n",
       "      <td>1</td>\n",
       "    </tr>\n",
       "    <tr>\n",
       "      <th>2012-08-19</th>\n",
       "      <td>2012</td>\n",
       "      <td>2318</td>\n",
       "      <td>23</td>\n",
       "      <td>Major Arterial</td>\n",
       "      <td>Clear</td>\n",
       "      <td>Dark, artificial</td>\n",
       "      <td>Dry</td>\n",
       "      <td>Major</td>\n",
       "      <td>40</td>\n",
       "      <td>Non Expressway</td>\n",
       "      <td>Severe Injury</td>\n",
       "      <td>1</td>\n",
       "    </tr>\n",
       "    <tr>\n",
       "      <th>2017-10-20</th>\n",
       "      <td>2017</td>\n",
       "      <td>2318</td>\n",
       "      <td>23</td>\n",
       "      <td>Major Arterial</td>\n",
       "      <td>Clear</td>\n",
       "      <td>Dusk, artificial</td>\n",
       "      <td>Dry</td>\n",
       "      <td>Major</td>\n",
       "      <td>5</td>\n",
       "      <td>Non Expressway</td>\n",
       "      <td>Severe Injury</td>\n",
       "      <td>1</td>\n",
       "    </tr>\n",
       "    <tr>\n",
       "      <th>2009-02-26</th>\n",
       "      <td>2009</td>\n",
       "      <td>2319</td>\n",
       "      <td>23</td>\n",
       "      <td>Minor Arterial</td>\n",
       "      <td>Clear</td>\n",
       "      <td>Dark</td>\n",
       "      <td>Dry</td>\n",
       "      <td>Major</td>\n",
       "      <td>32</td>\n",
       "      <td>Non Expressway</td>\n",
       "      <td>Severe Injury</td>\n",
       "      <td>1</td>\n",
       "    </tr>\n",
       "    <tr>\n",
       "      <th>2014-08-02</th>\n",
       "      <td>2014</td>\n",
       "      <td>2319</td>\n",
       "      <td>23</td>\n",
       "      <td>Major Arterial</td>\n",
       "      <td>Clear</td>\n",
       "      <td>Dark, artificial</td>\n",
       "      <td>Dry</td>\n",
       "      <td>Major</td>\n",
       "      <td>9</td>\n",
       "      <td>Non Expressway</td>\n",
       "      <td>Severe Injury</td>\n",
       "      <td>1</td>\n",
       "    </tr>\n",
       "  </tbody>\n",
       "</table>\n",
       "</div>"
      ],
      "text/plain": [
       "            year  time  hour      road_class visibility             light  \\\n",
       "date                                                                        \n",
       "2015-12-30  2015  2339    23  Major Arterial      Clear  Dark, artificial   \n",
       "2012-08-19  2012  2318    23  Major Arterial      Clear  Dark, artificial   \n",
       "2017-10-20  2017  2318    23  Major Arterial      Clear  Dusk, artificial   \n",
       "2009-02-26  2009  2319    23  Minor Arterial      Clear              Dark   \n",
       "2014-08-02  2014  2319    23  Major Arterial      Clear  Dark, artificial   \n",
       "\n",
       "           rdsfcond injury  ward_id       road_type    injury_type  \\\n",
       "date                                                                 \n",
       "2015-12-30      Dry  Fatal       30  Non Expressway  Severe Injury   \n",
       "2012-08-19      Dry  Major       40  Non Expressway  Severe Injury   \n",
       "2017-10-20      Dry  Major        5  Non Expressway  Severe Injury   \n",
       "2009-02-26      Dry  Major       32  Non Expressway  Severe Injury   \n",
       "2014-08-02      Dry  Major        9  Non Expressway  Severe Injury   \n",
       "\n",
       "            accident_count  \n",
       "date                        \n",
       "2015-12-30               1  \n",
       "2012-08-19               1  \n",
       "2017-10-20               1  \n",
       "2009-02-26               1  \n",
       "2014-08-02               1  "
      ]
     },
     "execution_count": 47,
     "metadata": {},
     "output_type": "execute_result"
    }
   ],
   "source": [
    "# Sub-setting only severly injured data\n",
    "df3_severe_injury = df3[df3['injury_type'] == 'Severe Injury']\n",
    "df3_severe_injury.head()"
   ]
  },
  {
   "cell_type": "code",
   "execution_count": 48,
   "metadata": {},
   "outputs": [
    {
     "data": {
      "text/html": [
       "<div>\n",
       "<style scoped>\n",
       "    .dataframe tbody tr th:only-of-type {\n",
       "        vertical-align: middle;\n",
       "    }\n",
       "\n",
       "    .dataframe tbody tr th {\n",
       "        vertical-align: top;\n",
       "    }\n",
       "\n",
       "    .dataframe thead th {\n",
       "        text-align: right;\n",
       "    }\n",
       "</style>\n",
       "<table border=\"1\" class=\"dataframe\">\n",
       "  <thead>\n",
       "    <tr style=\"text-align: right;\">\n",
       "      <th></th>\n",
       "      <th>accident_count</th>\n",
       "    </tr>\n",
       "    <tr>\n",
       "      <th>date</th>\n",
       "      <th></th>\n",
       "    </tr>\n",
       "  </thead>\n",
       "  <tbody>\n",
       "    <tr>\n",
       "      <th>2007-12-31</th>\n",
       "      <td>493</td>\n",
       "    </tr>\n",
       "    <tr>\n",
       "      <th>2008-12-31</th>\n",
       "      <td>448</td>\n",
       "    </tr>\n",
       "    <tr>\n",
       "      <th>2009-12-31</th>\n",
       "      <td>479</td>\n",
       "    </tr>\n",
       "    <tr>\n",
       "      <th>2010-12-31</th>\n",
       "      <td>445</td>\n",
       "    </tr>\n",
       "    <tr>\n",
       "      <th>2011-12-31</th>\n",
       "      <td>427</td>\n",
       "    </tr>\n",
       "  </tbody>\n",
       "</table>\n",
       "</div>"
      ],
      "text/plain": [
       "            accident_count\n",
       "date                      \n",
       "2007-12-31             493\n",
       "2008-12-31             448\n",
       "2009-12-31             479\n",
       "2010-12-31             445\n",
       "2011-12-31             427"
      ]
     },
     "execution_count": 48,
     "metadata": {},
     "output_type": "execute_result"
    }
   ],
   "source": [
    "df3_severe_injury_resampled=pd.DataFrame(df3_severe_injury.accident_count.resample('Y').sum())\n",
    "df3_severe_injury_resampled.head(5)\n",
    "#sns.distplot(df1_fatal_injury_resampled.accident_count)"
   ]
  },
  {
   "cell_type": "code",
   "execution_count": 49,
   "metadata": {},
   "outputs": [
    {
     "data": {
      "image/png": "[encoded data removed]",
      "text/plain": [
       "<Figure size 720x432 with 1 Axes>"
      ]
     },
     "metadata": {
      "needs_background": "light"
     },
     "output_type": "display_data"
    }
   ],
   "source": [
    "plt.figure(figsize=(10, 6))\n",
    "sns.barplot(data=df3_severe_injury_resampled, y=df3_severe_injury_resampled.accident_count, \n",
    "            x=df3_severe_injury_resampled.index.year)\n",
    "plt.title(\"Severly injured accidents in Toronto City between 2007 to 2017\", fontsize = 20);\n",
    "plt.savefig('HYP-c.png', bbox_inches='tight')"
   ]
  },
  {
   "cell_type": "code",
   "execution_count": 50,
   "metadata": {},
   "outputs": [],
   "source": [
    "#df1_severe_injury_resampled\n",
    "#sample_one = df1_severe_injury.loc[:'2012-12-31']\n",
    "#sample_two = df1_severe_injury.loc['2012-12-31':]\n",
    "sample_one = df3_severe_injury.loc['2010-12-01':'2014-11-30'] \n",
    "sample_two = df3_severe_injury.loc['2014-12-01':'2018-10-21'] "
   ]
  },
  {
   "cell_type": "code",
   "execution_count": 51,
   "metadata": {},
   "outputs": [],
   "source": [
    "sample_one_ts=pd.DataFrame(sample_one.accident_count.resample('M').sum())"
   ]
  },
  {
   "cell_type": "code",
   "execution_count": 52,
   "metadata": {},
   "outputs": [
    {
     "data": {
      "text/html": [
       "<div>\n",
       "<style scoped>\n",
       "    .dataframe tbody tr th:only-of-type {\n",
       "        vertical-align: middle;\n",
       "    }\n",
       "\n",
       "    .dataframe tbody tr th {\n",
       "        vertical-align: top;\n",
       "    }\n",
       "\n",
       "    .dataframe thead th {\n",
       "        text-align: right;\n",
       "    }\n",
       "</style>\n",
       "<table border=\"1\" class=\"dataframe\">\n",
       "  <thead>\n",
       "    <tr style=\"text-align: right;\">\n",
       "      <th></th>\n",
       "      <th>accident_count</th>\n",
       "    </tr>\n",
       "    <tr>\n",
       "      <th>date</th>\n",
       "      <th></th>\n",
       "    </tr>\n",
       "  </thead>\n",
       "  <tbody>\n",
       "    <tr>\n",
       "      <th>2010-12-31</th>\n",
       "      <td>29</td>\n",
       "    </tr>\n",
       "    <tr>\n",
       "      <th>2011-01-31</th>\n",
       "      <td>37</td>\n",
       "    </tr>\n",
       "    <tr>\n",
       "      <th>2011-02-28</th>\n",
       "      <td>22</td>\n",
       "    </tr>\n",
       "    <tr>\n",
       "      <th>2011-03-31</th>\n",
       "      <td>28</td>\n",
       "    </tr>\n",
       "    <tr>\n",
       "      <th>2011-04-30</th>\n",
       "      <td>22</td>\n",
       "    </tr>\n",
       "  </tbody>\n",
       "</table>\n",
       "</div>"
      ],
      "text/plain": [
       "            accident_count\n",
       "date                      \n",
       "2010-12-31              29\n",
       "2011-01-31              37\n",
       "2011-02-28              22\n",
       "2011-03-31              28\n",
       "2011-04-30              22"
      ]
     },
     "execution_count": 52,
     "metadata": {},
     "output_type": "execute_result"
    }
   ],
   "source": [
    "sample_one_ts. head()"
   ]
  },
  {
   "cell_type": "code",
   "execution_count": 53,
   "metadata": {},
   "outputs": [
    {
     "data": {
      "image/png": "[encoded data removed]",
      "text/plain": [
       "<Figure size 720x432 with 1 Axes>"
      ]
     },
     "metadata": {
      "needs_background": "light"
     },
     "output_type": "display_data"
    }
   ],
   "source": [
    "plt.figure(figsize=(10, 6))\n",
    "sns.distplot(sample_one_ts.accident_count)\n",
    "plt.title(\"Distribution plot of monthly severely injured accident data in Toronto City between 2010 to 2014 (Period 1)\");\n",
    "plt.savefig('HYP-d.png', bbox_inches='tight')"
   ]
  },
  {
   "cell_type": "code",
   "execution_count": 54,
   "metadata": {},
   "outputs": [],
   "source": [
    "sample_two_ts=pd.DataFrame(sample_two.accident_count.resample('M').sum())"
   ]
  },
  {
   "cell_type": "code",
   "execution_count": 55,
   "metadata": {},
   "outputs": [
    {
     "data": {
      "image/png": "[encoded data removed]",
      "text/plain": [
       "<Figure size 720x432 with 1 Axes>"
      ]
     },
     "metadata": {
      "needs_background": "light"
     },
     "output_type": "display_data"
    }
   ],
   "source": [
    "plt.figure(figsize=(10, 6))\n",
    "sns.distplot(sample_two_ts.accident_count)\n",
    "plt.title('Distribution plot of monthly severely injured accident data in Toronto City between 2014 to 2018 (Period 2)');\n",
    "plt.savefig('HYP-e.png', bbox_inches='tight')"
   ]
  },
  {
   "cell_type": "code",
   "execution_count": 56,
   "metadata": {
    "scrolled": false
   },
   "outputs": [
    {
     "name": "stdout",
     "output_type": "stream",
     "text": [
      "2010-2014\n",
      "       accident_count\n",
      "count       48.000000\n",
      "mean        36.145833\n",
      "std          9.549400\n",
      "min         20.000000\n",
      "25%         29.000000\n",
      "50%         36.000000\n",
      "75%         42.000000\n",
      "max         61.000000\n",
      "\n",
      " 2014-2018\n",
      "       accident_count\n",
      "count       37.000000\n",
      "mean        31.783784\n",
      "std          8.313761\n",
      "min         14.000000\n",
      "25%         28.000000\n",
      "50%         31.000000\n",
      "75%         37.000000\n",
      "max         54.000000\n"
     ]
    }
   ],
   "source": [
    "print(\"2010-2014\")\n",
    "print(sample_one_ts.describe())\n",
    "\n",
    "print(\"\\n\",\"2014-2018\")\n",
    "print(sample_two_ts.describe())"
   ]
  },
  {
   "cell_type": "markdown",
   "metadata": {},
   "source": [
    "**Null hypothesis**, $H_{0}$ $=$ 36\n",
    "\n",
    "**Alternate hypothesis** $H_{A}$ < 36"
   ]
  },
  {
   "cell_type": "markdown",
   "metadata": {},
   "source": [
    "__Observing the Samples__:\n",
    "1. Data sets are independant observation\n",
    "2. Data sets are near normal or normal distribution\n",
    "3. Observations are > 30\n",
    "4. There are no outliers\n",
    "\n",
    "Level of Significance for test = 5%"
   ]
  },
  {
   "cell_type": "markdown",
   "metadata": {},
   "source": [
    "# 4.3\tObservations from one sample t-test:\n",
    "\n",
    "After running a one-sampled t-test using stats package in python, following are the results obtained:\n",
    "\n",
    "    - Ttest_1sampResult(statistic=-3.191493260106139, pvalue=0.002933657930410994)\n",
    "\n",
    "Above results indicate that the probability of observing mean value of 36 by chance is very less than significance level of 0.05. Hence Null Hypothesis can be rejected and Alternate Hypothesis can be accepted"
   ]
  },
  {
   "cell_type": "code",
   "execution_count": 57,
   "metadata": {},
   "outputs": [
    {
     "data": {
      "text/plain": [
       "Ttest_1sampResult(statistic=-3.191493260106139, pvalue=0.002933657930410994)"
      ]
     },
     "execution_count": 57,
     "metadata": {},
     "output_type": "execute_result"
    }
   ],
   "source": [
    "#One sample t-test\n",
    "stats.ttest_1samp(sample_two_ts.accident_count, sample_one_ts.accident_count.mean())"
   ]
  },
  {
   "cell_type": "markdown",
   "metadata": {},
   "source": [
    "# 4.4\tObservations from two-sampled t-test\n",
    "\n",
    "After running a two-sampled t-test using stats package in python, following are the results obtained:\n",
    "\n",
    "Ttest_indResult(statistic=2.207044382194242, pvalue=0.030071942211035207)\n",
    "\n",
    "Above results indicate that the probability of observing two samples having an identical average by chance is very less than significance level of 0.05. Hence Null Hypothesis can be rejected and Alternate Hypothesis can be accepted."
   ]
  },
  {
   "cell_type": "code",
   "execution_count": 58,
   "metadata": {},
   "outputs": [
    {
     "data": {
      "text/plain": [
       "Ttest_indResult(statistic=2.207044382194242, pvalue=0.030071942211035207)"
      ]
     },
     "execution_count": 58,
     "metadata": {},
     "output_type": "execute_result"
    }
   ],
   "source": [
    "# two sample t-test\n",
    "# Null hypothesis: Two independant samples have identical average\n",
    "# Alternate hypothesis: Two independant samples does not have identical average\n",
    "\n",
    "stats.ttest_ind(sample_one_ts['accident_count'], sample_two_ts['accident_count'])"
   ]
  },
  {
   "cell_type": "markdown",
   "metadata": {},
   "source": [
    "# 5.0\tConclusion:\n",
    "\n",
    "Data set having information on Killed or Seriously injured accidents in Toronto area between 2007 to 2017 was analysed with two key objectives: \n",
    "1) Build a model which predicts the severity of an accident in the event an accident occurs in Toronto city based on various parameters \n",
    "2) Test the alternate hypothesis that monthly rate of accidents resulting in serious injury has declined in the last 4-year period (2014-2018) when compared with its previous 4-year period (2010-2014). \n",
    "\n",
    "Prediction model was built using Random Forest Classifier method and Logistic Regression method. While Random Forest Classifier approach resulted in ~39% accuracy, Logistic Regression approach resulted only in ~38% accuracy. Also, tuning the model did not result in significant increase in accuracy scores. As both the models have only < 50% accuracy score, prediction models cannot be treated final and used in Production for real use. This suggests that there are more opportunities to broaden the data set by adding more data attributes and/or adapt different approach to improve the accuracy score of the prediction model.\n",
    "\n",
    "Alternate hypothesis was tested using both one sampled and two-sampled t-test and the results indicate that the null hypothesis which states there is no difference between severely injured accident rate between two periods under study (2010-2014 & 2014-2018) can be rejected and alternate hypothesis which states that there is a decline in severely injured accident rate from 2010-14 period to 2014-18 can be safely accepted."
   ]
  },
  {
   "cell_type": "markdown",
   "metadata": {},
   "source": [
    "\n",
    "# 6.0\tReference:\n",
    "- https://en.wikipedia.org/wiki/List_of_countries_by_traffic-related_death_rate\n",
    "- https://data.torontopolice.on.ca/datasets/ksi\n",
    "- https://en.wikipedia.org/wiki/Statistical_hypothesis_testing\n",
    "- https://machinelearningmastery.com/classification-versus-regression-in-machine-learning/\n",
    "- https://en.wikipedia.org/wiki/Random_forest"
   ]
  },
  {
   "cell_type": "markdown",
   "metadata": {},
   "source": [
    "# Appendix \n",
    "## Additional Code for Plotting in Maps\n"
   ]
  },
  {
   "cell_type": "markdown",
   "metadata": {},
   "source": [
    "**Geopandas Libraries**\n",
    "\n",
    "import geopandas as gpd\n",
    "import descartes\n",
    "from shapely.geometry import Point, Polygon\n",
    "\n",
    "**SHP File Read**\n",
    "\n",
    "g2 = gpd.read_file('WARD_WGS84.shp')"
   ]
  },
  {
   "cell_type": "markdown",
   "metadata": {},
   "source": [
    "**Geopandas dataframe**\n",
    "\n",
    "geometry = [Point(xy) for xy in zip(df1.longitude,df1.latitude)]\n",
    "crs = {'init': 'epsg:4326'}\n",
    "geo_df = gpd.GeoDataFrame(df2, crs = crs, geometry = geometry)\n",
    "\n",
    "**Plot - Subplots (2)**\n",
    "\n",
    "fig,axs = plt.subplots(2,1,figsize = (20,20))\n",
    "\n",
    "**First Plot**\n",
    "\n",
    "axs[0] = g2.plot(ax = axs[0], alpha = 1, color = 'grey')\n",
    "geo_df[geo_df.critically_injured == 1].plot(ax=axs[0],markersize=10,color = 'red', \n",
    "                                            marker = 'x', label = 'injury',alpha = 0.5,)\n",
    "axs[0].set_title('Accidents With Critical Injury Reported', fontsize=20)\n",
    "axs[0].axis('off')\n",
    "\n",
    "**Second Plot**\n",
    "\n",
    "axs[1] = g2.plot(ax = axs[1], alpha = 1, color = 'grey')\n",
    "geo_df[geo_df.critically_injured == 0].plot(ax=axs[1],markersize=10,color = 'blue',\n",
    "                                            marker = 'x', label = 'injury',alpha = 0.5)\n",
    "axs[1].set_title('Accidents Without A Critical Injury Reported', fontsize=20)\n",
    "plt.axis('off')\n",
    "axs[1].axis('off')\n",
    "\n",
    "fig.suptitle('Accidents Criticality Plot', fontsize= 32)\n",
    "\n",
    "plt.subplots_adjust(top=0.93)\n",
    "\n",
    "plt.savefig('Map1.png', bbox_inches='tight')"
   ]
  },
  {
   "cell_type": "markdown",
   "metadata": {},
   "source": [
    "**Geopandas dataframe**\n",
    "\n",
    "geometry = [Point(xy) for xy in zip(raw_data.longitude,raw_data.latitude)]\n",
    "crs = {'init': 'epsg:4326'}\n",
    "geo_df1 = gpd.GeoDataFrame(raw_data, crs = crs, geometry = geometry)\n",
    "\n",
    "**SHP File Read**\n",
    "\n",
    "g2 = gpd.read_file('WARD_WGS84.shp')\n",
    "\n",
    "**Plot - Subplots (2)**\n",
    "\n",
    "fig,axs = plt.subplots(2,1,figsize = (20,20))\n",
    "\n",
    "axs[0] = g2.plot(ax = axs[0], alpha = 1, color = 'grey')\n",
    "geo_df1[geo_df1.alcohol == 'Yes'].plot(ax=axs[0],markersize=20,color = 'red', \n",
    "                                            marker = 'x', label = 'injury',alpha = 0.5,)\n",
    "axs[0].set_title('Accidents Where Alcohol Involved', fontsize=20)\n",
    "axs[0].axis('off')\n",
    "\n",
    "**Second Plot**\n",
    "\n",
    "axs[1] = g2.plot(ax = axs[1], alpha = 1, color = 'grey')\n",
    "geo_df1[geo_df1.speeding == 'Yes'].plot(ax=axs[1],markersize=20,color = 'blue',\n",
    "                                            marker = 'x', label = 'injury',alpha = 0.5)\n",
    "axs[1].set_title('Accidents Where Speeding Involved', fontsize=20)\n",
    "plt.axis('off')\n",
    "axs[1].axis('off')\n",
    "\n",
    "fig.suptitle('Accidents Speeding and Alcohol Plot', fontsize= 32)\n",
    "\n",
    "plt.subplots_adjust(top=0.93)\n",
    "\n",
    "plt.savefig('Map2.png', bbox_inches='tight')"
   ]
  },
  {
   "cell_type": "code",
   "execution_count": null,
   "metadata": {},
   "outputs": [],
   "source": []
  }
 ],
 "metadata": {
  "kernelspec": {
   "display_name": "Python 3",
   "language": "python",
   "name": "python3"
  },
  "language_info": {
   "codemirror_mode": {
    "name": "ipython",
    "version": 3
   },
   "file_extension": ".py",
   "mimetype": "text/x-python",
   "name": "python",
   "nbconvert_exporter": "python",
   "pygments_lexer": "ipython3",
   "version": "3.7.3"
  }
 },
 "nbformat": 4,
 "nbformat_minor": 2
}
